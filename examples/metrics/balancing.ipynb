{
 "cells": [
  {
   "cell_type": "code",
   "execution_count": 1,
   "metadata": {},
   "outputs": [],
   "source": [
    "# import libraries\n",
    "import numpy as np\n",
    "import sklearn.metrics as metrics"
   ]
  },
  {
   "cell_type": "code",
   "execution_count": 2,
   "metadata": {},
   "outputs": [],
   "source": [
    "# binary classification\n",
    "y_true = np.array([0, 0, 0, 0, 0, 1, 0, 0, 0, 1])\n",
    "y_pred = np.array([0, 0, 0, 0, 0, 0, 0, 0, 0, 0])"
   ]
  },
  {
   "cell_type": "code",
   "execution_count": 5,
   "metadata": {},
   "outputs": [
    {
     "name": "stdout",
     "output_type": "stream",
     "text": [
      "Imbalanced Binary F1 score: 0.00\n",
      "Imbalanced Weighted F1 score: 0.71\n"
     ]
    }
   ],
   "source": [
    "f1 = metrics.f1_score(y_true, y_pred, average=\"binary\")\n",
    "print(f\"Imbalanced Binary F1 score: {f1:.2f}\")\n",
    "f1 = metrics.f1_score(y_true, y_pred, average=\"weighted\")\n",
    "print(f\"Imbalanced Weighted F1 score: {f1:.2f}\")"
   ]
  },
  {
   "cell_type": "code",
   "execution_count": 6,
   "metadata": {},
   "outputs": [],
   "source": [
    "# multi-class classification\n",
    "y_true = np.array([0, 0, 0, 0, 0, 0, 1, 1, 1, 2, 2, 2])\n",
    "y_pred = np.array([0, 0, 0, 0, 0, 0, 0, 0, 0, 0, 0, 0])"
   ]
  },
  {
   "cell_type": "code",
   "execution_count": 7,
   "metadata": {},
   "outputs": [
    {
     "name": "stdout",
     "output_type": "stream",
     "text": [
      "Macro multi-class F1 score: 0.22\n",
      "Micro multi-class F1 score: 0.50\n",
      "Weighted multi-class F1 score: 0.33\n"
     ]
    }
   ],
   "source": [
    "f1 = metrics.f1_score(y_true, y_pred, average=\"macro\")\n",
    "print(f\"Macro multi-class F1 score: {f1:.2f}\")\n",
    "f1 = metrics.f1_score(y_true, y_pred, average=\"micro\")\n",
    "print(f\"Micro multi-class F1 score: {f1:.2f}\")\n",
    "f1 = metrics.f1_score(y_true, y_pred, average=\"weighted\")\n",
    "print(f\"Weighted multi-class F1 score: {f1:.2f}\")"
   ]
  },
  {
   "cell_type": "code",
   "execution_count": 8,
   "metadata": {},
   "outputs": [
    {
     "name": "stdout",
     "output_type": "stream",
     "text": [
      "Weighted multi-class F1 score (heavily biased): 0.53\n"
     ]
    }
   ],
   "source": [
    "# as the number of classes increases, the weighted f1 score becomes more sensitive to class imbalance\n",
    "# this is because the weighted f1 score is the average of the f1 scores for each class, weighted by the number of true instances in each class\n",
    "# in the case of class imbalance, the weighted f1 score will be biased towards the majority class\n",
    "# see e.g.\n",
    "y_true = np.array([0, 0, 0, 0, 0, 0, 0, 0, 0, 0, 0, 0, 1, 1, 1, 2, 2, 2])\n",
    "y_pred = np.array([0, 0, 0, 0, 0, 0, 0, 0, 0, 0, 0, 0, 0, 0, 0, 0, 0, 0])\n",
    "f1 = metrics.f1_score(y_true, y_pred, average=\"weighted\")\n",
    "print(f\"Weighted multi-class F1 score (heavily biased): {f1:.2f}\")"
   ]
  },
  {
   "cell_type": "code",
   "execution_count": 9,
   "metadata": {},
   "outputs": [
    {
     "name": "stdout",
     "output_type": "stream",
     "text": [
      "0.6666666666666666\n",
      "[0.26666666666666666, 0.6666666666666666, 0.5333333333333334]\n",
      "[0.2222222222222222, 0.6666666666666666, 0.4444444444444444]\n",
      "[0.3333333333333333, 0.6666666666666666, 0.6666666666666666]\n"
     ]
    },
    {
     "name": "stderr",
     "output_type": "stream",
     "text": [
      "f:\\User\\Andreas\\paper\\sentiment-in-marketing\\sentiment-in-marketing\\.venv\\lib\\site-packages\\sklearn\\metrics\\_classification.py:1471: UndefinedMetricWarning: Precision is ill-defined and being set to 0.0 in labels with no predicted samples. Use `zero_division` parameter to control this behavior.\n",
      "  _warn_prf(average, modifier, msg_start, len(result))\n",
      "f:\\User\\Andreas\\paper\\sentiment-in-marketing\\sentiment-in-marketing\\.venv\\lib\\site-packages\\sklearn\\metrics\\_classification.py:1471: UndefinedMetricWarning: Precision is ill-defined and being set to 0.0 in labels with no predicted samples. Use `zero_division` parameter to control this behavior.\n",
      "  _warn_prf(average, modifier, msg_start, len(result))\n"
     ]
    }
   ],
   "source": [
    "# we can also demonstrate the effect of class imbalance on the weighted f1 score by using the eval_metrics function\n",
    "# we can see that the weighted f1 score is biased towards the majority class\n",
    "# this is also reflected in the precision and recall scores\n",
    "def eval_metrics(\n",
    "    y_true: np.ndarray, y_pred: np.ndarray, weighting: str = \"binary\"\n",
    "):\n",
    "    \"\"\"Compute evaluation metrics for multi-class classification.\n",
    "\n",
    "    Args:\n",
    "        y_true: true labels\n",
    "        y_pred: predicted labels\n",
    "        weighting: type of averaging for multi-class classification\n",
    "    \"\"\"\n",
    "    f1 = []\n",
    "    precision = []\n",
    "    recall = []\n",
    "    for i in (\"macro\", \"micro\", \"weighted\"):\n",
    "        f1.append(metrics.f1_score(y_true, y_pred, average=i))\n",
    "        precision.append(metrics.precision_score(y_true, y_pred, average=i))\n",
    "        recall.append(metrics.recall_score(y_true, y_pred, average=i))\n",
    "    acc = metrics.accuracy_score(y_true, y_pred)\n",
    "    return acc, f1, precision, recall\n",
    "\n",
    "for i in eval_metrics(y_true, y_pred):\n",
    "    print(i)"
   ]
  },
  {
   "cell_type": "code",
   "execution_count": null,
   "metadata": {},
   "outputs": [],
   "source": []
  }
 ],
 "metadata": {
  "kernelspec": {
   "display_name": ".venv",
   "language": "python",
   "name": "python3"
  },
  "language_info": {
   "codemirror_mode": {
    "name": "ipython",
    "version": 3
   },
   "file_extension": ".py",
   "mimetype": "text/x-python",
   "name": "python",
   "nbconvert_exporter": "python",
   "pygments_lexer": "ipython3",
   "version": "3.10.9"
  }
 },
 "nbformat": 4,
 "nbformat_minor": 2
}
