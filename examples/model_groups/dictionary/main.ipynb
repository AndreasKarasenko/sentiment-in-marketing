{
 "cells": [
  {
   "cell_type": "code",
   "execution_count": 1,
   "metadata": {},
   "outputs": [
    {
     "name": "stdout",
     "output_type": "stream",
     "text": [
      "{'n_rows': 1000, 'n_missing_text': 0, 'n_missing_score': 0, 'n_unique_text': 932, 'n_unique_score': 5, 'dtype_text': dtype('O'), 'dtype_score': dtype('int64'), 'stats_score': count    1000.000000\n",
      "mean        3.596000\n",
      "std         1.781561\n",
      "min         1.000000\n",
      "25%         1.000000\n",
      "50%         5.000000\n",
      "75%         5.000000\n",
      "max         5.000000\n",
      "Name: score, dtype: float64, 'distribution_score': score\n",
      "5    56.7\n",
      "1    28.7\n",
      "4     7.3\n",
      "2     3.7\n",
      "3     3.6\n",
      "Name: proportion, dtype: float64, 'skew_score': -0.6394638251906569, 'kurt_score': -1.4611554508172815, 'skewed': False, 'kurtotic': False, 'outlier': False, 'high_cardinality': False, 'highly_correlated': False}\n"
     ]
    }
   ],
   "source": [
    "# load libraries\n",
    "import sys\n",
    "sys.path.append(\"../../../\")\n",
    "\n",
    "import pandas as pd\n",
    "from utils.dataloader import googleplay\n",
    "from utils.describe import describe\n",
    "\n",
    "# load the data\n",
    "df = googleplay(config=None, path=\"../../../data/ikea_en.csv\")\n",
    "df = df.iloc[:1000,:] # subsample for faster processing\n",
    "print(describe(df, \"content\", score_col=\"score\"))"
   ]
  },
  {
   "cell_type": "code",
   "execution_count": 2,
   "metadata": {},
   "outputs": [],
   "source": [
    "# load the model\n",
    "from models import DICTIONARY_MODELS\n",
    "\n",
    "model = DICTIONARY_MODELS[\"Vader\"] # gets the function for the model\n",
    "model_instance = model()"
   ]
  },
  {
   "cell_type": "code",
   "execution_count": 3,
   "metadata": {},
   "outputs": [],
   "source": [
    "# calculate the sentiment\n",
    "df[\"sentiment\"] = df[\"content\"].apply(lambda x: model_instance.polarity_scores(x)[\"compound\"])"
   ]
  },
  {
   "cell_type": "code",
   "execution_count": 4,
   "metadata": {},
   "outputs": [
    {
     "data": {
      "text/plain": [
       "<Axes: >"
      ]
     },
     "execution_count": 4,
     "metadata": {},
     "output_type": "execute_result"
    },
    {
     "data": {
      "image/png": "[encoded data removed]",
      "text/plain": [
       "<Figure size 640x480 with 1 Axes>"
      ]
     },
     "metadata": {},
     "output_type": "display_data"
    }
   ],
   "source": [
    "df[\"sentiment\"].hist()"
   ]
  },
  {
   "cell_type": "code",
   "execution_count": null,
   "metadata": {},
   "outputs": [],
   "source": []
  }
 ],
 "metadata": {
  "kernelspec": {
   "display_name": ".venv",
   "language": "python",
   "name": "python3"
  },
  "language_info": {
   "codemirror_mode": {
    "name": "ipython",
    "version": 3
   },
   "file_extension": ".py",
   "mimetype": "text/x-python",
   "name": "python",
   "nbconvert_exporter": "python",
   "pygments_lexer": "ipython3",
   "version": "3.10.8"
  }
 },
 "nbformat": 4,
 "nbformat_minor": 2
}
