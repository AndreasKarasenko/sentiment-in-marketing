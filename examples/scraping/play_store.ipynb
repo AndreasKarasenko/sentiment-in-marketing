{
 "cells": [
  {
   "cell_type": "markdown",
   "metadata": {},
   "source": [
    "# Google Play Store Scraping "
   ]
  },
  {
   "cell_type": "markdown",
   "metadata": {},
   "source": [
    "Import all relevant functions.\n",
    "\n",
    "See the function for additional notes"
   ]
  },
  {
   "cell_type": "code",
   "execution_count": 1,
   "metadata": {},
   "outputs": [],
   "source": [
    "# we need to add the utils directory to the path so we can import the modules\n",
    "import sys\n",
    "sys.path.append('../../')"
   ]
  },
  {
   "cell_type": "code",
   "execution_count": 2,
   "metadata": {},
   "outputs": [],
   "source": [
    "import pandas as pd\n",
    "from utils.scrape import get_playstore_reviews\n",
    "from utils.describe import describe"
   ]
  },
  {
   "cell_type": "code",
   "execution_count": 3,
   "metadata": {},
   "outputs": [],
   "source": [
    "# using get_reviews() to retrieve the reviews for IKEA\n",
    "ikea = get_playstore_reviews(\"com.ingka.ikea.app\")"
   ]
  },
  {
   "cell_type": "code",
   "execution_count": 4,
   "metadata": {},
   "outputs": [
    {
     "data": {
      "text/html": [
       "<div>\n",
       "<style scoped>\n",
       "    .dataframe tbody tr th:only-of-type {\n",
       "        vertical-align: middle;\n",
       "    }\n",
       "\n",
       "    .dataframe tbody tr th {\n",
       "        vertical-align: top;\n",
       "    }\n",
       "\n",
       "    .dataframe thead th {\n",
       "        text-align: right;\n",
       "    }\n",
       "</style>\n",
       "<table border=\"1\" class=\"dataframe\">\n",
       "  <thead>\n",
       "    <tr style=\"text-align: right;\">\n",
       "      <th></th>\n",
       "      <th>reviewId</th>\n",
       "      <th>userName</th>\n",
       "      <th>userImage</th>\n",
       "      <th>content</th>\n",
       "      <th>score</th>\n",
       "      <th>thumbsUpCount</th>\n",
       "      <th>reviewCreatedVersion</th>\n",
       "      <th>date</th>\n",
       "      <th>replyContent</th>\n",
       "      <th>repliedAt</th>\n",
       "      <th>year</th>\n",
       "    </tr>\n",
       "  </thead>\n",
       "  <tbody>\n",
       "    <tr>\n",
       "      <th>0</th>\n",
       "      <td>e4909c98-58e2-400f-b894-5de0a4ba8be8</td>\n",
       "      <td>Abdullah Durmus</td>\n",
       "      <td>https://play-lh.googleusercontent.com/a-/ALV-U...</td>\n",
       "      <td>Alles gut</td>\n",
       "      <td>4</td>\n",
       "      <td>0</td>\n",
       "      <td>3.53.1</td>\n",
       "      <td>2024-01-15 10:05:20</td>\n",
       "      <td>Hej! Vielen Dank für deine Rezension. Wir sind...</td>\n",
       "      <td>2024-01-15 18:25:33</td>\n",
       "      <td>2024</td>\n",
       "    </tr>\n",
       "    <tr>\n",
       "      <th>1</th>\n",
       "      <td>d6ee0340-5941-4dc8-81e1-bbc45973579d</td>\n",
       "      <td>Mario Dunst</td>\n",
       "      <td>https://play-lh.googleusercontent.com/a/ACg8oc...</td>\n",
       "      <td>Die App ist super zum schauen. Man kann das im...</td>\n",
       "      <td>5</td>\n",
       "      <td>0</td>\n",
       "      <td>3.57.2</td>\n",
       "      <td>2024-01-14 12:27:22</td>\n",
       "      <td>Hej! Vielen Dank für deinen positiven Kommentar.</td>\n",
       "      <td>2024-01-14 21:25:19</td>\n",
       "      <td>2024</td>\n",
       "    </tr>\n",
       "    <tr>\n",
       "      <th>2</th>\n",
       "      <td>1812eb3d-ac4c-4325-ab48-3bc0fbf5f919</td>\n",
       "      <td>Hadi Shogaa</td>\n",
       "      <td>https://play-lh.googleusercontent.com/a/ACg8oc...</td>\n",
       "      <td>Die shop and go Funktion ist einfach gut.</td>\n",
       "      <td>5</td>\n",
       "      <td>0</td>\n",
       "      <td>3.57.2</td>\n",
       "      <td>2024-01-14 10:27:42</td>\n",
       "      <td>Hej! Vielen Dank, dass du das gesagt hast. Das...</td>\n",
       "      <td>2024-01-14 19:25:22</td>\n",
       "      <td>2024</td>\n",
       "    </tr>\n",
       "    <tr>\n",
       "      <th>3</th>\n",
       "      <td>0ac99f7c-f8dd-4677-abc5-ca588f696a79</td>\n",
       "      <td>Nein</td>\n",
       "      <td>https://play-lh.googleusercontent.com/a/ACg8oc...</td>\n",
       "      <td>Super schnelle Übersicht, vorrätig weiß man im...</td>\n",
       "      <td>5</td>\n",
       "      <td>0</td>\n",
       "      <td>3.57.2</td>\n",
       "      <td>2024-01-14 09:51:51</td>\n",
       "      <td>Hej! Vielen Dank für deine Rezension. Wir sind...</td>\n",
       "      <td>2024-01-14 18:25:10</td>\n",
       "      <td>2024</td>\n",
       "    </tr>\n",
       "    <tr>\n",
       "      <th>4</th>\n",
       "      <td>8789631e-09f1-48db-9316-edd0e2d422af</td>\n",
       "      <td>Hendrik</td>\n",
       "      <td>https://play-lh.googleusercontent.com/a/ACg8oc...</td>\n",
       "      <td>Als Nutzer möchte ich die Family Card auf der ...</td>\n",
       "      <td>2</td>\n",
       "      <td>0</td>\n",
       "      <td>3.57.2</td>\n",
       "      <td>2024-01-13 23:59:34</td>\n",
       "      <td>None</td>\n",
       "      <td>NaT</td>\n",
       "      <td>2024</td>\n",
       "    </tr>\n",
       "  </tbody>\n",
       "</table>\n",
       "</div>"
      ],
      "text/plain": [
       "                               reviewId         userName  \\\n",
       "0  e4909c98-58e2-400f-b894-5de0a4ba8be8  Abdullah Durmus   \n",
       "1  d6ee0340-5941-4dc8-81e1-bbc45973579d      Mario Dunst   \n",
       "2  1812eb3d-ac4c-4325-ab48-3bc0fbf5f919      Hadi Shogaa   \n",
       "3  0ac99f7c-f8dd-4677-abc5-ca588f696a79             Nein   \n",
       "4  8789631e-09f1-48db-9316-edd0e2d422af          Hendrik   \n",
       "\n",
       "                                           userImage  \\\n",
       "0  https://play-lh.googleusercontent.com/a-/ALV-U...   \n",
       "1  https://play-lh.googleusercontent.com/a/ACg8oc...   \n",
       "2  https://play-lh.googleusercontent.com/a/ACg8oc...   \n",
       "3  https://play-lh.googleusercontent.com/a/ACg8oc...   \n",
       "4  https://play-lh.googleusercontent.com/a/ACg8oc...   \n",
       "\n",
       "                                             content  score  thumbsUpCount  \\\n",
       "0                                          Alles gut      4              0   \n",
       "1  Die App ist super zum schauen. Man kann das im...      5              0   \n",
       "2          Die shop and go Funktion ist einfach gut.      5              0   \n",
       "3  Super schnelle Übersicht, vorrätig weiß man im...      5              0   \n",
       "4  Als Nutzer möchte ich die Family Card auf der ...      2              0   \n",
       "\n",
       "  reviewCreatedVersion                date  \\\n",
       "0               3.53.1 2024-01-15 10:05:20   \n",
       "1               3.57.2 2024-01-14 12:27:22   \n",
       "2               3.57.2 2024-01-14 10:27:42   \n",
       "3               3.57.2 2024-01-14 09:51:51   \n",
       "4               3.57.2 2024-01-13 23:59:34   \n",
       "\n",
       "                                        replyContent           repliedAt  year  \n",
       "0  Hej! Vielen Dank für deine Rezension. Wir sind... 2024-01-15 18:25:33  2024  \n",
       "1   Hej! Vielen Dank für deinen positiven Kommentar. 2024-01-14 21:25:19  2024  \n",
       "2  Hej! Vielen Dank, dass du das gesagt hast. Das... 2024-01-14 19:25:22  2024  \n",
       "3  Hej! Vielen Dank für deine Rezension. Wir sind... 2024-01-14 18:25:10  2024  \n",
       "4                                               None                 NaT  2024  "
      ]
     },
     "execution_count": 4,
     "metadata": {},
     "output_type": "execute_result"
    }
   ],
   "source": [
    "ikea.head()"
   ]
  },
  {
   "cell_type": "code",
   "execution_count": 5,
   "metadata": {},
   "outputs": [
    {
     "data": {
      "text/html": [
       "<div>\n",
       "<style scoped>\n",
       "    .dataframe tbody tr th:only-of-type {\n",
       "        vertical-align: middle;\n",
       "    }\n",
       "\n",
       "    .dataframe tbody tr th {\n",
       "        vertical-align: top;\n",
       "    }\n",
       "\n",
       "    .dataframe thead th {\n",
       "        text-align: right;\n",
       "    }\n",
       "</style>\n",
       "<table border=\"1\" class=\"dataframe\">\n",
       "  <thead>\n",
       "    <tr style=\"text-align: right;\">\n",
       "      <th></th>\n",
       "      <th>score</th>\n",
       "      <th>thumbsUpCount</th>\n",
       "      <th>date</th>\n",
       "      <th>repliedAt</th>\n",
       "      <th>year</th>\n",
       "    </tr>\n",
       "  </thead>\n",
       "  <tbody>\n",
       "    <tr>\n",
       "      <th>count</th>\n",
       "      <td>6193.000000</td>\n",
       "      <td>6193.000000</td>\n",
       "      <td>6193</td>\n",
       "      <td>2341</td>\n",
       "      <td>6193.000000</td>\n",
       "    </tr>\n",
       "    <tr>\n",
       "      <th>mean</th>\n",
       "      <td>3.424189</td>\n",
       "      <td>1.574843</td>\n",
       "      <td>2021-08-25 14:20:39.540610304</td>\n",
       "      <td>2022-05-18 03:55:03.670653440</td>\n",
       "      <td>2021.128694</td>\n",
       "    </tr>\n",
       "    <tr>\n",
       "      <th>min</th>\n",
       "      <td>1.000000</td>\n",
       "      <td>0.000000</td>\n",
       "      <td>2019-11-22 22:56:50</td>\n",
       "      <td>2020-06-30 08:51:22</td>\n",
       "      <td>2019.000000</td>\n",
       "    </tr>\n",
       "    <tr>\n",
       "      <th>25%</th>\n",
       "      <td>1.000000</td>\n",
       "      <td>0.000000</td>\n",
       "      <td>2020-09-06 10:52:01</td>\n",
       "      <td>2021-09-05 04:25:50</td>\n",
       "      <td>2020.000000</td>\n",
       "    </tr>\n",
       "    <tr>\n",
       "      <th>50%</th>\n",
       "      <td>4.000000</td>\n",
       "      <td>0.000000</td>\n",
       "      <td>2021-04-29 16:20:21</td>\n",
       "      <td>2022-05-25 21:25:39</td>\n",
       "      <td>2021.000000</td>\n",
       "    </tr>\n",
       "    <tr>\n",
       "      <th>75%</th>\n",
       "      <td>5.000000</td>\n",
       "      <td>1.000000</td>\n",
       "      <td>2022-06-16 00:59:12</td>\n",
       "      <td>2022-12-30 13:42:56</td>\n",
       "      <td>2022.000000</td>\n",
       "    </tr>\n",
       "    <tr>\n",
       "      <th>max</th>\n",
       "      <td>5.000000</td>\n",
       "      <td>139.000000</td>\n",
       "      <td>2024-01-15 10:05:20</td>\n",
       "      <td>2024-01-15 18:25:33</td>\n",
       "      <td>2024.000000</td>\n",
       "    </tr>\n",
       "    <tr>\n",
       "      <th>std</th>\n",
       "      <td>1.772814</td>\n",
       "      <td>6.438734</td>\n",
       "      <td>NaN</td>\n",
       "      <td>NaN</td>\n",
       "      <td>1.081351</td>\n",
       "    </tr>\n",
       "  </tbody>\n",
       "</table>\n",
       "</div>"
      ],
      "text/plain": [
       "             score  thumbsUpCount                           date  \\\n",
       "count  6193.000000    6193.000000                           6193   \n",
       "mean      3.424189       1.574843  2021-08-25 14:20:39.540610304   \n",
       "min       1.000000       0.000000            2019-11-22 22:56:50   \n",
       "25%       1.000000       0.000000            2020-09-06 10:52:01   \n",
       "50%       4.000000       0.000000            2021-04-29 16:20:21   \n",
       "75%       5.000000       1.000000            2022-06-16 00:59:12   \n",
       "max       5.000000     139.000000            2024-01-15 10:05:20   \n",
       "std       1.772814       6.438734                            NaN   \n",
       "\n",
       "                           repliedAt         year  \n",
       "count                           2341  6193.000000  \n",
       "mean   2022-05-18 03:55:03.670653440  2021.128694  \n",
       "min              2020-06-30 08:51:22  2019.000000  \n",
       "25%              2021-09-05 04:25:50  2020.000000  \n",
       "50%              2022-05-25 21:25:39  2021.000000  \n",
       "75%              2022-12-30 13:42:56  2022.000000  \n",
       "max              2024-01-15 18:25:33  2024.000000  \n",
       "std                              NaN     1.081351  "
      ]
     },
     "execution_count": 5,
     "metadata": {},
     "output_type": "execute_result"
    }
   ],
   "source": [
    "ikea.describe()"
   ]
  },
  {
   "cell_type": "code",
   "execution_count": 6,
   "metadata": {},
   "outputs": [
    {
     "data": {
      "text/plain": [
       "score\n",
       "5    49.975779\n",
       "1    29.161957\n",
       "4     8.235104\n",
       "2     7.443888\n",
       "3     5.183271\n",
       "Name: proportion, dtype: float64"
      ]
     },
     "execution_count": 6,
     "metadata": {},
     "output_type": "execute_result"
    }
   ],
   "source": [
    "# get the distribution of the scores\n",
    "score_distribution = ikea['score'].value_counts(normalize=True)\n",
    "\n",
    "# Convert to percentage\n",
    "score_distribution_percentage = score_distribution * 100\n",
    "score_distribution_percentage"
   ]
  },
  {
   "cell_type": "markdown",
   "metadata": {},
   "source": [
    "We get a lot of information using this approach, most notably unique users, their reviews, and their star ratings"
   ]
  },
  {
   "cell_type": "code",
   "execution_count": 7,
   "metadata": {},
   "outputs": [
    {
     "data": {
      "text/plain": [
       "{'n_rows': 6193,\n",
       " 'n_missing_text': 1,\n",
       " 'n_missing_score': 0,\n",
       " 'n_unique_text': 5490,\n",
       " 'n_unique_score': 5,\n",
       " 'dtype_text': dtype('O'),\n",
       " 'dtype_score': dtype('int64'),\n",
       " 'stats_score': count    6193.000000\n",
       " mean        3.424189\n",
       " std         1.772814\n",
       " min         1.000000\n",
       " 25%         1.000000\n",
       " 50%         4.000000\n",
       " 75%         5.000000\n",
       " max         5.000000\n",
       " Name: score, dtype: float64,\n",
       " 'distribution_score': score\n",
       " 5    49.975779\n",
       " 1    29.161957\n",
       " 4     8.235104\n",
       " 2     7.443888\n",
       " 3     5.183271\n",
       " Name: proportion, dtype: float64,\n",
       " 'skew_score': -0.43134512079735415,\n",
       " 'kurt_score': -1.6362450702253624,\n",
       " 'skewed': False,\n",
       " 'kurtotic': False,\n",
       " 'outlier': False,\n",
       " 'high_cardinality': False,\n",
       " 'highly_correlated': False}"
      ]
     },
     "execution_count": 7,
     "metadata": {},
     "output_type": "execute_result"
    }
   ],
   "source": [
    "describe(ikea, text_col=\"content\", score_col=\"score\")"
   ]
  },
  {
   "cell_type": "code",
   "execution_count": 8,
   "metadata": {},
   "outputs": [],
   "source": [
    "ikea.to_csv(\"../../data/ikea.csv\", index=False)"
   ]
  }
 ],
 "metadata": {
  "kernelspec": {
   "display_name": ".venv",
   "language": "python",
   "name": "python3"
  },
  "language_info": {
   "codemirror_mode": {
    "name": "ipython",
    "version": 3
   },
   "file_extension": ".py",
   "mimetype": "text/x-python",
   "name": "python",
   "nbconvert_exporter": "python",
   "pygments_lexer": "ipython3",
   "version": "3.10.9"
  }
 },
 "nbformat": 4,
 "nbformat_minor": 2
}
