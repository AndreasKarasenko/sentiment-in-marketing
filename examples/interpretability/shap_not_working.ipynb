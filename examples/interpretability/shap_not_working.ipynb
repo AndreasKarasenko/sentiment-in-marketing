{
 "cells": [
  {
   "cell_type": "code",
   "execution_count": 3,
   "metadata": {},
   "outputs": [],
   "source": [
    "import datasets\n",
    "import numpy as np\n",
    "from sklearn.naive_bayes import MultinomialNB\n",
    "\n",
    "import shap"
   ]
  },
  {
   "cell_type": "code",
   "execution_count": 4,
   "metadata": {},
   "outputs": [],
   "source": [
    "imdb = datasets.load_dataset('imdb', split=\"test\")"
   ]
  },
  {
   "cell_type": "code",
   "execution_count": 5,
   "metadata": {},
   "outputs": [],
   "source": [
    "short_data = [v[:500] for v in imdb[\"text\"][:20]]"
   ]
  },
  {
   "cell_type": "code",
   "execution_count": 35,
   "metadata": {},
   "outputs": [
    {
     "ename": "AttributeError",
     "evalue": "'numpy.float64' object has no attribute 'replace'",
     "output_type": "error",
     "traceback": [
      "\u001b[0;31m---------------------------------------------------------------------------\u001b[0m",
      "\u001b[0;31mAttributeError\u001b[0m                            Traceback (most recent call last)",
      "Cell \u001b[0;32mIn[35], line 12\u001b[0m\n\u001b[1;32m      9\u001b[0m explainer \u001b[38;5;241m=\u001b[39m shap\u001b[38;5;241m.\u001b[39mExplainer(classifier\u001b[38;5;241m.\u001b[39mpredict,X_train\u001b[38;5;241m.\u001b[39mtoarray())\n\u001b[1;32m     10\u001b[0m shap_values \u001b[38;5;241m=\u001b[39m explainer(short_data\u001b[38;5;241m.\u001b[39mtoarray(), max_evals\u001b[38;5;241m=\u001b[39m\u001b[38;5;241m2403\u001b[39m)\n\u001b[0;32m---> 12\u001b[0m \u001b[43mshap\u001b[49m\u001b[38;5;241;43m.\u001b[39;49m\u001b[43mplots\u001b[49m\u001b[38;5;241;43m.\u001b[39;49m\u001b[43mtext\u001b[49m\u001b[43m(\u001b[49m\u001b[43mshap_values\u001b[49m\u001b[43m)\u001b[49m\n",
      "File \u001b[0;32m~/arbeit/sentiment-in-marketing/.venv/lib/python3.10/site-packages/shap/plots/_text.py:109\u001b[0m, in \u001b[0;36mtext\u001b[0;34m(shap_values, num_starting_labels, grouping_threshold, separator, xmin, xmax, cmax, display)\u001b[0m\n\u001b[1;32m    102\u001b[0m     \u001b[38;5;28;01mfor\u001b[39;00m i, v \u001b[38;5;129;01min\u001b[39;00m \u001b[38;5;28menumerate\u001b[39m(shap_values):\n\u001b[1;32m    103\u001b[0m         out \u001b[38;5;241m+\u001b[39m\u001b[38;5;241m=\u001b[39m \u001b[38;5;124mf\u001b[39m\u001b[38;5;124m\"\"\"\u001b[39m\n\u001b[1;32m    104\u001b[0m \u001b[38;5;124m<br>\u001b[39m\n\u001b[1;32m    105\u001b[0m \u001b[38;5;124m<hr style=\u001b[39m\u001b[38;5;124m\"\u001b[39m\u001b[38;5;124mheight: 1px; background-color: #fff; border: none; margin-top: 18px; margin-bottom: 18px; border-top: 1px dashed #ccc;\u001b[39m\u001b[38;5;124m\"\u001b[39m\u001b[38;5;124m\"\u001b[39m\u001b[38;5;124m>\u001b[39m\n\u001b[1;32m    106\u001b[0m \u001b[38;5;124m<div align=\u001b[39m\u001b[38;5;124m\"\u001b[39m\u001b[38;5;124mcenter\u001b[39m\u001b[38;5;124m\"\u001b[39m\u001b[38;5;124m style=\u001b[39m\u001b[38;5;124m\"\u001b[39m\u001b[38;5;124mmargin-top: -35px;\u001b[39m\u001b[38;5;124m\"\u001b[39m\u001b[38;5;124m><div style=\u001b[39m\u001b[38;5;124m\"\u001b[39m\u001b[38;5;124mdisplay: inline-block; background: #fff; padding: 5px; color: #999; font-family: monospace\u001b[39m\u001b[38;5;124m\"\u001b[39m\u001b[38;5;124m>[\u001b[39m\u001b[38;5;132;01m{\u001b[39;00mi\u001b[38;5;132;01m}\u001b[39;00m\u001b[38;5;124m]</div>\u001b[39m\n\u001b[1;32m    107\u001b[0m \u001b[38;5;124m</div>\u001b[39m\n\u001b[1;32m    108\u001b[0m \u001b[38;5;124m            \u001b[39m\u001b[38;5;124m\"\"\"\u001b[39m\n\u001b[0;32m--> 109\u001b[0m         out \u001b[38;5;241m+\u001b[39m\u001b[38;5;241m=\u001b[39m \u001b[43mtext\u001b[49m\u001b[43m(\u001b[49m\n\u001b[1;32m    110\u001b[0m \u001b[43m            \u001b[49m\u001b[43mv\u001b[49m\u001b[43m,\u001b[49m\u001b[43m \u001b[49m\u001b[43mnum_starting_labels\u001b[49m\u001b[38;5;241;43m=\u001b[39;49m\u001b[43mnum_starting_labels\u001b[49m\u001b[43m,\u001b[49m\u001b[43m \u001b[49m\u001b[43mgrouping_threshold\u001b[49m\u001b[38;5;241;43m=\u001b[39;49m\u001b[43mgrouping_threshold\u001b[49m\u001b[43m,\u001b[49m\n\u001b[1;32m    111\u001b[0m \u001b[43m            \u001b[49m\u001b[43mseparator\u001b[49m\u001b[38;5;241;43m=\u001b[39;49m\u001b[43mseparator\u001b[49m\u001b[43m,\u001b[49m\u001b[43m \u001b[49m\u001b[43mxmin\u001b[49m\u001b[38;5;241;43m=\u001b[39;49m\u001b[43mxmin\u001b[49m\u001b[43m,\u001b[49m\u001b[43m \u001b[49m\u001b[43mxmax\u001b[49m\u001b[38;5;241;43m=\u001b[39;49m\u001b[43mxmax\u001b[49m\u001b[43m,\u001b[49m\u001b[43m \u001b[49m\u001b[43mcmax\u001b[49m\u001b[38;5;241;43m=\u001b[39;49m\u001b[43mcmax\u001b[49m\u001b[43m,\u001b[49m\u001b[43m \u001b[49m\u001b[43mdisplay\u001b[49m\u001b[38;5;241;43m=\u001b[39;49m\u001b[38;5;28;43;01mFalse\u001b[39;49;00m\n\u001b[1;32m    112\u001b[0m \u001b[43m        \u001b[49m\u001b[43m)\u001b[49m\n\u001b[1;32m    113\u001b[0m     \u001b[38;5;28;01mif\u001b[39;00m display:\n\u001b[1;32m    114\u001b[0m         _ipython_display_html(out)\n",
      "File \u001b[0;32m~/arbeit/sentiment-in-marketing/.venv/lib/python3.10/site-packages/shap/plots/_text.py:285\u001b[0m, in \u001b[0;36mtext\u001b[0;34m(shap_values, num_starting_labels, grouping_threshold, separator, xmin, xmax, cmax, display)\u001b[0m\n\u001b[1;32m    279\u001b[0m out \u001b[38;5;241m=\u001b[39m \u001b[38;5;124m\"\u001b[39m\u001b[38;5;124m\"\u001b[39m\n\u001b[1;32m    280\u001b[0m \u001b[38;5;66;03m# ev_str = str(shap_values.base_values)\u001b[39;00m\n\u001b[1;32m    281\u001b[0m \u001b[38;5;66;03m# vsum_str = str(values.sum())\u001b[39;00m\n\u001b[1;32m    282\u001b[0m \u001b[38;5;66;03m# fx_str = str(shap_values.base_values + values.sum())\u001b[39;00m\n\u001b[1;32m    283\u001b[0m \n\u001b[1;32m    284\u001b[0m \u001b[38;5;66;03m#uuid = ''.join(random.choices(string.ascii_lowercase, k=20))\u001b[39;00m\n\u001b[0;32m--> 285\u001b[0m encoded_tokens \u001b[38;5;241m=\u001b[39m [t\u001b[38;5;241m.\u001b[39mreplace(\u001b[38;5;124m\"\u001b[39m\u001b[38;5;124m<\u001b[39m\u001b[38;5;124m\"\u001b[39m, \u001b[38;5;124m\"\u001b[39m\u001b[38;5;124m&lt;\u001b[39m\u001b[38;5;124m\"\u001b[39m)\u001b[38;5;241m.\u001b[39mreplace(\u001b[38;5;124m\"\u001b[39m\u001b[38;5;124m>\u001b[39m\u001b[38;5;124m\"\u001b[39m, \u001b[38;5;124m\"\u001b[39m\u001b[38;5;124m&gt;\u001b[39m\u001b[38;5;124m\"\u001b[39m)\u001b[38;5;241m.\u001b[39mreplace(\u001b[38;5;124m'\u001b[39m\u001b[38;5;124m ##\u001b[39m\u001b[38;5;124m'\u001b[39m, \u001b[38;5;124m'\u001b[39m\u001b[38;5;124m'\u001b[39m) \u001b[38;5;28;01mfor\u001b[39;00m t \u001b[38;5;129;01min\u001b[39;00m tokens]\n\u001b[1;32m    286\u001b[0m output_name \u001b[38;5;241m=\u001b[39m shap_values\u001b[38;5;241m.\u001b[39moutput_names \u001b[38;5;28;01mif\u001b[39;00m \u001b[38;5;28misinstance\u001b[39m(shap_values\u001b[38;5;241m.\u001b[39moutput_names, \u001b[38;5;28mstr\u001b[39m) \u001b[38;5;28;01melse\u001b[39;00m \u001b[38;5;124m\"\u001b[39m\u001b[38;5;124m\"\u001b[39m\n\u001b[1;32m    287\u001b[0m out \u001b[38;5;241m+\u001b[39m\u001b[38;5;241m=\u001b[39m svg_force_plot(values, shap_values\u001b[38;5;241m.\u001b[39mbase_values, shap_values\u001b[38;5;241m.\u001b[39mbase_values \u001b[38;5;241m+\u001b[39m values\u001b[38;5;241m.\u001b[39msum(), encoded_tokens, uuid, xmin, xmax, output_name)\n",
      "File \u001b[0;32m~/arbeit/sentiment-in-marketing/.venv/lib/python3.10/site-packages/shap/plots/_text.py:285\u001b[0m, in \u001b[0;36m<listcomp>\u001b[0;34m(.0)\u001b[0m\n\u001b[1;32m    279\u001b[0m out \u001b[38;5;241m=\u001b[39m \u001b[38;5;124m\"\u001b[39m\u001b[38;5;124m\"\u001b[39m\n\u001b[1;32m    280\u001b[0m \u001b[38;5;66;03m# ev_str = str(shap_values.base_values)\u001b[39;00m\n\u001b[1;32m    281\u001b[0m \u001b[38;5;66;03m# vsum_str = str(values.sum())\u001b[39;00m\n\u001b[1;32m    282\u001b[0m \u001b[38;5;66;03m# fx_str = str(shap_values.base_values + values.sum())\u001b[39;00m\n\u001b[1;32m    283\u001b[0m \n\u001b[1;32m    284\u001b[0m \u001b[38;5;66;03m#uuid = ''.join(random.choices(string.ascii_lowercase, k=20))\u001b[39;00m\n\u001b[0;32m--> 285\u001b[0m encoded_tokens \u001b[38;5;241m=\u001b[39m [\u001b[43mt\u001b[49m\u001b[38;5;241;43m.\u001b[39;49m\u001b[43mreplace\u001b[49m(\u001b[38;5;124m\"\u001b[39m\u001b[38;5;124m<\u001b[39m\u001b[38;5;124m\"\u001b[39m, \u001b[38;5;124m\"\u001b[39m\u001b[38;5;124m&lt;\u001b[39m\u001b[38;5;124m\"\u001b[39m)\u001b[38;5;241m.\u001b[39mreplace(\u001b[38;5;124m\"\u001b[39m\u001b[38;5;124m>\u001b[39m\u001b[38;5;124m\"\u001b[39m, \u001b[38;5;124m\"\u001b[39m\u001b[38;5;124m&gt;\u001b[39m\u001b[38;5;124m\"\u001b[39m)\u001b[38;5;241m.\u001b[39mreplace(\u001b[38;5;124m'\u001b[39m\u001b[38;5;124m ##\u001b[39m\u001b[38;5;124m'\u001b[39m, \u001b[38;5;124m'\u001b[39m\u001b[38;5;124m'\u001b[39m) \u001b[38;5;28;01mfor\u001b[39;00m t \u001b[38;5;129;01min\u001b[39;00m tokens]\n\u001b[1;32m    286\u001b[0m output_name \u001b[38;5;241m=\u001b[39m shap_values\u001b[38;5;241m.\u001b[39moutput_names \u001b[38;5;28;01mif\u001b[39;00m \u001b[38;5;28misinstance\u001b[39m(shap_values\u001b[38;5;241m.\u001b[39moutput_names, \u001b[38;5;28mstr\u001b[39m) \u001b[38;5;28;01melse\u001b[39;00m \u001b[38;5;124m\"\u001b[39m\u001b[38;5;124m\"\u001b[39m\n\u001b[1;32m    287\u001b[0m out \u001b[38;5;241m+\u001b[39m\u001b[38;5;241m=\u001b[39m svg_force_plot(values, shap_values\u001b[38;5;241m.\u001b[39mbase_values, shap_values\u001b[38;5;241m.\u001b[39mbase_values \u001b[38;5;241m+\u001b[39m values\u001b[38;5;241m.\u001b[39msum(), encoded_tokens, uuid, xmin, xmax, output_name)\n",
      "\u001b[0;31mAttributeError\u001b[0m: 'numpy.float64' object has no attribute 'replace'"
     ]
    }
   ],
   "source": [
    "from sklearn.feature_extraction.text import TfidfVectorizer\n",
    "classifier = MultinomialNB()\n",
    "vectorizer = TfidfVectorizer()\n",
    "X_train = vectorizer.fit_transform(imdb[\"text\"][:20])\n",
    "classifier.fit(X_train, imdb[\"label\"][:20])\n",
    "\n",
    "# short_data = vectorizer.transform(short_data)\n",
    "\n",
    "explainer = shap.Explainer(classifier.predict,X_train.toarray())\n",
    "shap_values = explainer(short_data.toarray(), max_evals=2403)\n",
    "\n",
    "shap.plots.text(shap_values)"
   ]
  },
  {
   "cell_type": "code",
   "execution_count": 32,
   "metadata": {},
   "outputs": [
    {
     "data": {
      "text/plain": [
       ".values =\n",
       "array([0., 0., 0., ..., 0., 0., 0.])\n",
       "\n",
       ".base_values =\n",
       "0.0\n",
       "\n",
       ".data =\n",
       "array([0.        , 0.        , 0.        , ..., 0.        , 0.17880973,\n",
       "       0.11867328])"
      ]
     },
     "execution_count": 32,
     "metadata": {},
     "output_type": "execute_result"
    }
   ],
   "source": [
    "shap_values[1,:]"
   ]
  }
 ],
 "metadata": {
  "kernelspec": {
   "display_name": ".venv",
   "language": "python",
   "name": "python3"
  },
  "language_info": {
   "codemirror_mode": {
    "name": "ipython",
    "version": 3
   },
   "file_extension": ".py",
   "mimetype": "text/x-python",
   "name": "python",
   "nbconvert_exporter": "python",
   "pygments_lexer": "ipython3",
   "version": "3.10.12"
  }
 },
 "nbformat": 4,
 "nbformat_minor": 2
}
