{
 "cells": [
  {
   "cell_type": "code",
   "execution_count": 3,
   "metadata": {},
   "outputs": [],
   "source": [
    "import pandas as pd\n",
    "import shap\n",
    "data = pd.read_csv(\"../../samples/lidl_train.csv\")\n",
    "data.dropna(inplace=True)"
   ]
  },
  {
   "cell_type": "code",
   "execution_count": 4,
   "metadata": {},
   "outputs": [],
   "source": [
    "low_rated = \"\"\"Quit it with the forced updates . Yet again today , in the queue turned it on , update.. all i wanted was to get a digital reciept for electrical purchases, but no wouldnt let me scan. Judt update. At the checkout with lousy mobile coverage is not the place to find out there is an update out..thanks for your answer i understand apps need updating . But its the forced nature of your updates.. \"\"do nothing until its updated\"\" at least let us scan the code as a minimum.before updating.\"\"\"\n",
    "low_score = 0\n",
    "\n",
    "high_rated = \"\"\"It's a good app and the savings are better than other loyalty schemes. The scratch card seems a bit of a gimmick but otherwise it's a good app and recommended. Also shows how busy the shop is and opening hours 👍\"\"\"\n",
    "high_score = 4"
   ]
  },
  {
   "cell_type": "code",
   "execution_count": 5,
   "metadata": {},
   "outputs": [],
   "source": [
    "from joblib import load\n",
    "# model = load(\"./results/train/MultinomialNB/MultinomialNB_lidl_2024-04-03_11-55-30.pkl\")\n",
    "model = load(\"../../results/train/MultinomialNB/MultinomialNB_lidl_2024-04-03_11-55-30.pkl\")"
   ]
  },
  {
   "cell_type": "code",
   "execution_count": 7,
   "metadata": {},
   "outputs": [
    {
     "ename": "ValueError",
     "evalue": "masker cannot be None.",
     "output_type": "error",
     "traceback": [
      "\u001b[1;31m---------------------------------------------------------------------------\u001b[0m",
      "\u001b[1;31mValueError\u001b[0m                                Traceback (most recent call last)",
      "Cell \u001b[1;32mIn[7], line 1\u001b[0m\n\u001b[1;32m----> 1\u001b[0m explainer \u001b[38;5;241m=\u001b[39m \u001b[43mshap\u001b[49m\u001b[38;5;241;43m.\u001b[39;49m\u001b[43mExplainer\u001b[49m\u001b[43m(\u001b[49m\u001b[43mmodel\u001b[49m\u001b[38;5;241;43m.\u001b[39;49m\u001b[43mpredict_proba\u001b[49m\u001b[43m)\u001b[49m\n",
      "File \u001b[1;32mf:\\User\\Andreas\\paper\\sentiment-in-marketing\\sentiment-in-marketing\\.venv\\lib\\site-packages\\shap\\explainers\\_explainer.py:182\u001b[0m, in \u001b[0;36mExplainer.__init__\u001b[1;34m(self, model, masker, link, algorithm, output_names, feature_names, linearize_link, seed, **kwargs)\u001b[0m\n\u001b[0;32m    180\u001b[0m \u001b[38;5;28;01melif\u001b[39;00m algorithm \u001b[38;5;241m==\u001b[39m \u001b[38;5;124m\"\u001b[39m\u001b[38;5;124mpermutation\u001b[39m\u001b[38;5;124m\"\u001b[39m:\n\u001b[0;32m    181\u001b[0m     \u001b[38;5;28mself\u001b[39m\u001b[38;5;241m.\u001b[39m\u001b[38;5;18m__class__\u001b[39m \u001b[38;5;241m=\u001b[39m explainers\u001b[38;5;241m.\u001b[39mPermutationExplainer\n\u001b[1;32m--> 182\u001b[0m     explainers\u001b[38;5;241m.\u001b[39mPermutationExplainer\u001b[38;5;241m.\u001b[39m\u001b[38;5;21m__init__\u001b[39m(\u001b[38;5;28mself\u001b[39m, \u001b[38;5;28mself\u001b[39m\u001b[38;5;241m.\u001b[39mmodel, \u001b[38;5;28mself\u001b[39m\u001b[38;5;241m.\u001b[39mmasker, link\u001b[38;5;241m=\u001b[39m\u001b[38;5;28mself\u001b[39m\u001b[38;5;241m.\u001b[39mlink, feature_names\u001b[38;5;241m=\u001b[39m\u001b[38;5;28mself\u001b[39m\u001b[38;5;241m.\u001b[39mfeature_names, linearize_link\u001b[38;5;241m=\u001b[39mlinearize_link, seed\u001b[38;5;241m=\u001b[39mseed, \u001b[38;5;241m*\u001b[39m\u001b[38;5;241m*\u001b[39mkwargs)\n\u001b[0;32m    183\u001b[0m \u001b[38;5;28;01melif\u001b[39;00m algorithm \u001b[38;5;241m==\u001b[39m \u001b[38;5;124m\"\u001b[39m\u001b[38;5;124mpartition\u001b[39m\u001b[38;5;124m\"\u001b[39m:\n\u001b[0;32m    184\u001b[0m     \u001b[38;5;28mself\u001b[39m\u001b[38;5;241m.\u001b[39m\u001b[38;5;18m__class__\u001b[39m \u001b[38;5;241m=\u001b[39m explainers\u001b[38;5;241m.\u001b[39mPartitionExplainer\n",
      "File \u001b[1;32mf:\\User\\Andreas\\paper\\sentiment-in-marketing\\sentiment-in-marketing\\.venv\\lib\\site-packages\\shap\\explainers\\_permutation.py:50\u001b[0m, in \u001b[0;36mPermutationExplainer.__init__\u001b[1;34m(self, model, masker, link, feature_names, linearize_link, seed, **call_args)\u001b[0m\n\u001b[0;32m     47\u001b[0m np\u001b[38;5;241m.\u001b[39mrandom\u001b[38;5;241m.\u001b[39mseed(seed)\n\u001b[0;32m     49\u001b[0m \u001b[38;5;28;01mif\u001b[39;00m masker \u001b[38;5;129;01mis\u001b[39;00m \u001b[38;5;28;01mNone\u001b[39;00m:\n\u001b[1;32m---> 50\u001b[0m     \u001b[38;5;28;01mraise\u001b[39;00m \u001b[38;5;167;01mValueError\u001b[39;00m(\u001b[38;5;124m\"\u001b[39m\u001b[38;5;124mmasker cannot be None.\u001b[39m\u001b[38;5;124m\"\u001b[39m)\n\u001b[0;32m     52\u001b[0m \u001b[38;5;28msuper\u001b[39m()\u001b[38;5;241m.\u001b[39m\u001b[38;5;21m__init__\u001b[39m(model, masker, link\u001b[38;5;241m=\u001b[39mlink, linearize_link\u001b[38;5;241m=\u001b[39mlinearize_link, feature_names\u001b[38;5;241m=\u001b[39mfeature_names)\n\u001b[0;32m     54\u001b[0m \u001b[38;5;28;01mif\u001b[39;00m \u001b[38;5;129;01mnot\u001b[39;00m \u001b[38;5;28misinstance\u001b[39m(\u001b[38;5;28mself\u001b[39m\u001b[38;5;241m.\u001b[39mmodel, Model):\n",
      "\u001b[1;31mValueError\u001b[0m: masker cannot be None."
     ]
    }
   ],
   "source": [
    "explainer = shap.Explainer(model[-1])"
   ]
  },
  {
   "cell_type": "code",
   "execution_count": null,
   "metadata": {},
   "outputs": [],
   "source": []
  }
 ],
 "metadata": {
  "kernelspec": {
   "display_name": ".venv",
   "language": "python",
   "name": "python3"
  },
  "language_info": {
   "codemirror_mode": {
    "name": "ipython",
    "version": 3
   },
   "file_extension": ".py",
   "mimetype": "text/x-python",
   "name": "python",
   "nbconvert_exporter": "python",
   "pygments_lexer": "ipython3",
   "version": "3.10.9"
  }
 },
 "nbformat": 4,
 "nbformat_minor": 2
}
