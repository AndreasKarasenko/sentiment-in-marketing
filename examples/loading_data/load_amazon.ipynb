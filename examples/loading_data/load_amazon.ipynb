{
 "cells": [
  {
   "cell_type": "code",
   "execution_count": 1,
   "metadata": {},
   "outputs": [
    {
     "name": "stdout",
     "output_type": "stream",
     "text": [
      "{'n_rows': 34278, 'n_missing_text': 13, 'n_missing_score': 0, 'n_unique_text': 24245, 'n_unique_score': 5, 'dtype_text': dtype('O'), 'dtype_score': dtype('float64'), 'stats_score': count    34278.00000\n",
      "mean         4.28616\n",
      "std          1.03736\n",
      "min          1.00000\n",
      "25%          4.00000\n",
      "50%          5.00000\n",
      "75%          5.00000\n",
      "max          5.00000\n",
      "Name: overall, dtype: float64, 'distribution_score': overall\n",
      "5.0    58.258942\n",
      "4.0    22.851392\n",
      "3.0    11.330883\n",
      "2.0     4.364315\n",
      "1.0     3.194469\n",
      "Name: proportion, dtype: float64, 'skew_score': -1.513678007959375, 'kurt_score': 1.646761897972056, 'skewed': False, 'kurtotic': True, 'outlier': False, 'high_cardinality': False, 'highly_correlated': False}\n"
     ]
    }
   ],
   "source": [
    "# load libraries\n",
    "import sys\n",
    "sys.path.append('../../')\n",
    "\n",
    "from utils.dataloader import amazon\n",
    "from utils.describe import describe\n",
    "\n",
    "# load the data\n",
    "df = amazon(config=None, path=\"../../data/Luxury_Beauty_5.json.gz\")\n",
    "print(describe(df, text_col=\"reviewText\", score_col=\"overall\"))"
   ]
  },
  {
   "cell_type": "markdown",
   "metadata": {},
   "source": [
    "at this point you can do more things like preprocessing"
   ]
  },
  {
   "cell_type": "markdown",
   "metadata": {},
   "source": []
  }
 ],
 "metadata": {
  "kernelspec": {
   "display_name": ".venv",
   "language": "python",
   "name": "python3"
  },
  "language_info": {
   "codemirror_mode": {
    "name": "ipython",
    "version": 3
   },
   "file_extension": ".py",
   "mimetype": "text/x-python",
   "name": "python",
   "nbconvert_exporter": "python",
   "pygments_lexer": "ipython3",
   "version": "3.10.9"
  }
 },
 "nbformat": 4,
 "nbformat_minor": 2
}
