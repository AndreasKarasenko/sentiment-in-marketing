{
 "cells": [
  {
   "cell_type": "code",
   "execution_count": 1,
   "metadata": {},
   "outputs": [
    {
     "name": "stdout",
     "output_type": "stream",
     "text": [
      "{'n_rows': 6193, 'n_missing_text': 1, 'n_missing_score': 0, 'n_unique_text': 5490, 'n_unique_score': 5, 'dtype_text': dtype('O'), 'dtype_score': dtype('int64'), 'stats_score': count    6193.000000\n",
      "mean        3.424189\n",
      "std         1.772814\n",
      "min         1.000000\n",
      "25%         1.000000\n",
      "50%         4.000000\n",
      "75%         5.000000\n",
      "max         5.000000\n",
      "Name: score, dtype: float64, 'distribution_score': score\n",
      "5    49.975779\n",
      "1    29.161957\n",
      "4     8.235104\n",
      "2     7.443888\n",
      "3     5.183271\n",
      "Name: proportion, dtype: float64, 'skew_score': -0.43134512079735415, 'kurt_score': -1.6362450702253624, 'skewed': False, 'kurtotic': False, 'outlier': False, 'high_cardinality': False, 'highly_correlated': False}\n"
     ]
    }
   ],
   "source": [
    "# load libraries\n",
    "import sys\n",
    "sys.path.append('../../')\n",
    "\n",
    "from utils.dataloader import googleplay\n",
    "from utils.describe import describe\n",
    "\n",
    "# load the data\n",
    "df = googleplay(config=None, path=\"../../data/ikea.csv\")\n",
    "print(describe(df, text_col=\"content\", score_col=\"score\"))"
   ]
  },
  {
   "cell_type": "markdown",
   "metadata": {},
   "source": [
    "at this point you can do more things like preprocessing"
   ]
  },
  {
   "cell_type": "markdown",
   "metadata": {},
   "source": []
  }
 ],
 "metadata": {
  "kernelspec": {
   "display_name": ".venv",
   "language": "python",
   "name": "python3"
  },
  "language_info": {
   "codemirror_mode": {
    "name": "ipython",
    "version": 3
   },
   "file_extension": ".py",
   "mimetype": "text/x-python",
   "name": "python",
   "nbconvert_exporter": "python",
   "pygments_lexer": "ipython3",
   "version": "3.10.9"
  }
 },
 "nbformat": 4,
 "nbformat_minor": 2
}
