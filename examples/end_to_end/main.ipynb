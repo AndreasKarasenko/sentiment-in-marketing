{
 "cells": [
  {
   "cell_type": "markdown",
   "metadata": {},
   "source": [
    "This file shows an end to end example of SA, including:\n",
    "* loading data\n",
    "* preprocessing\n",
    "* model specification\n",
    "* hyperparameter tuning\n",
    "* evaluation\n",
    "* comparison\n",
    "* interpretation"
   ]
  },
  {
   "cell_type": "code",
   "execution_count": null,
   "metadata": {
    "vscode": {
     "languageId": "plaintext"
    }
   },
   "outputs": [],
   "source": []
  }
 ],
 "metadata": {
  "language_info": {
   "name": "python"
  }
 },
 "nbformat": 4,
 "nbformat_minor": 2
}
