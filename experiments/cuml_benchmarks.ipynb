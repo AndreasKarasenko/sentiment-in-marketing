{
 "cells": [
  {
   "cell_type": "markdown",
   "metadata": {},
   "source": [
    "# RAPIDS cuML \n",
    "## Performance, Boundaries, and Correctness Benchmarks\n",
    "\n",
    "**Description:** This notebook provides a simple and unified means of benchmarking single GPU cuML algorithms against their skLearn counterparts with the `cuml.benchmark` package in RAPIDS cuML. This enables quick and simple measurements of performance, validation of correctness, and investigation of upper bounds.\n",
    "\n",
    "Each benchmark returns a Pandas `DataFrame` with the results. At the end of the notebook, these results are used to draw charts and output to a CSV file. \n",
    "\n",
    "Please refer to the [table of contents](#table_of_contents) for algorithms available to be benchmarked with this notebook."
   ]
  },
  {
   "cell_type": "code",
   "execution_count": 2,
   "metadata": {},
   "outputs": [
    {
     "name": "stdout",
     "output_type": "stream",
     "text": [
      "24.02.00\n"
     ]
    }
   ],
   "source": [
    "import cuml\n",
    "import pandas as pd\n",
    "\n",
    "from cuml.benchmark.runners import SpeedupComparisonRunner\n",
    "from cuml.benchmark.algorithms import algorithm_by_name\n",
    "\n",
    "import warnings\n",
    "warnings.filterwarnings('ignore', 'Expected column ')\n",
    "\n",
    "print(cuml.__version__)"
   ]
  },
  {
   "cell_type": "code",
   "execution_count": 3,
   "metadata": {},
   "outputs": [],
   "source": [
    "N_REPS = 3  # Number of times each test is repeated\n",
    "\n",
    "DATA_NEIGHBORHOODS = \"blobs\"\n",
    "DATA_CLASSIFICATION = \"classification\"\n",
    "DATA_REGRESSION = \"regression\"\n",
    "\n",
    "INPUT_TYPE = \"numpy\"\n",
    "\n",
    "benchmark_results = []"
   ]
  },
  {
   "cell_type": "code",
   "execution_count": 4,
   "metadata": {},
   "outputs": [],
   "source": [
    "SMALL_ROW_SIZES = [2**x for x in range(14, 17)]\n",
    "LARGE_ROW_SIZES = [2**x for x in range(18, 24, 2)]\n",
    "\n",
    "SKINNY_FEATURES = [32, 256]\n",
    "WIDE_FEATURES = [1000, 10000]\n",
    "\n",
    "VERBOSE=True\n",
    "RUN_CPU=True"
   ]
  },
  {
   "cell_type": "code",
   "execution_count": 5,
   "metadata": {},
   "outputs": [],
   "source": [
    "def enrich_result(algorithm, runner, result):\n",
    "    result[\"algo\"] = algorithm\n",
    "    result[\"dataset_name\"] = runner.dataset_name\n",
    "    result[\"input_type\"] = runner.input_type\n",
    "    return result\n",
    "\n",
    "def execute_benchmark(algorithm, runner, verbose=VERBOSE, run_cpu=RUN_CPU, **kwargs):\n",
    "    results = runner.run(algorithm_by_name(algorithm), verbose=verbose, run_cpu=run_cpu, **kwargs)\n",
    "    results = [enrich_result(algorithm, runner, result) for result in results]\n",
    "    benchmark_results.extend(results)"
   ]
  },
  {
   "cell_type": "markdown",
   "metadata": {},
   "source": [
    "## Table of Contents<a id=\"table_of_contents\"/>\n",
    "\n",
    "### Benchmarks\n",
    "1. [Neighbors](#neighbors)<br>\n",
    "    1.1 [Nearest Neighbors - Brute Force](#nn_bruteforce)<br>\n",
    "    1.2 [KNeighborsClassifier](#kneighborsclassifier)<br>\n",
    "    1.3 [KNeighborsRegressor](#kneighborsregressor)<br>\n",
    "2. [Clustering](#clustering)<br>\n",
    "    2.1 [DBSCAN - Brute Force](#dbscan_bruteforce)<br>\n",
    "    2.2 [K-Means](#kmeans)<br>\n",
    "3. [Manifold Learning](#manifold_learning)<br>\n",
    "    3.1 [UMAP - Unsupervised](#umap_unsupervised)<br>\n",
    "    3.2 [UMAP - Supervised](#umap_supervised)<br>\n",
    "    3.3 [T-SNE](#tsne)<br>\n",
    "4. [Linear Models](#linear_models)<br>\n",
    "    4.1 [Linear Regression](#linear_regression)<br>\n",
    "    4.2 [Logistic Regression](#logistic_regression)<br>\n",
    "    4.3 [Ridge Regression](#ridge_regression)<br>\n",
    "    4.4 [Lasso Regression](#lasso_regression)<br>\n",
    "    4.5 [ElasticNet Regression](#elasticnet_regression)<br>\n",
    "    4.6 [Mini-batch SGD Classifier](#minibatch_sgd_classifier)<br>\n",
    "5. [Decomposition](#decomposition)<br>\n",
    "    5.1 [PCA](#pca)<br>\n",
    "    5.2 [Truncated SVD](#truncated_svd)<br>\n",
    "6. [Ensemble](#ensemble)<br>\n",
    "    6.1 [Random Forest Classifier](#random_forest_classifier)<br>\n",
    "    6.2 [Random Forest Regressor](#random_forest_regressor)<br>\n",
    "    6.3 [FIL](#fil)<br>\n",
    "    6.4 [Sparse FIL](#sparse_fil)<br>\n",
    "7. [Random Projection](#random_projection)<br>\n",
    "    7.1 [Gaussian Random Projection](#gaussian_random_projection)<br>\n",
    "    7.2 [Sparse Random Projection](#sparse_random_projection)<br>\n",
    "8. [SVM](#svm)<br>\n",
    "    8.1 [SVC - Linear Kernel](#svc_linear_kernel)<br>\n",
    "    8.2 [SVC - RBF Kernel](#svc_rbf_kernel)<br>\n",
    "    8.3 [SVR - Linear Kernel](#svr_linear_kernel)<br>\n",
    "    8.4 [SVR - RBF Kernel](#svr_rbf_kernel)<br>\n",
    "    \n",
    "### Chart & Store Results\n",
    "9. [Convert to Pandas DataFrame](#convert_to_pandas)<br>\n",
    "10. [Chart Results](#chart_results)<br>\n",
    "11. [Output to CSV](#output_csv)<br>"
   ]
  },
  {
   "cell_type": "markdown",
   "metadata": {},
   "source": [
    "## Neighbors<a id=\"neighbors\"/>\n"
   ]
  },
  {
   "cell_type": "markdown",
   "metadata": {},
   "source": [
    "### Nearest Neighbors - Brute Force<a id=\"nn_bruteforce\"/>"
   ]
  },
  {
   "cell_type": "code",
   "execution_count": 5,
   "metadata": {},
   "outputs": [
    {
     "name": "stdout",
     "output_type": "stream",
     "text": [
      "NearestNeighbors (n_samples=16384, n_features=32) [cpu=0.19321250915527344, gpu=0.03139305114746094, speedup=6.15462664803451]\n",
      "NearestNeighbors (n_samples=16384, n_features=256) [cpu=0.956498384475708, gpu=0.06869888305664062, speedup=13.923055833194514]\n",
      "NearestNeighbors (n_samples=32768, n_features=32) [cpu=0.7519340515136719, gpu=0.07145333290100098, speedup=10.523428662949579]\n",
      "NearestNeighbors (n_samples=32768, n_features=256) [cpu=3.959327459335327, gpu=0.2133345603942871, speedup=18.559240715698657]\n",
      "NearestNeighbors (n_samples=65536, n_features=32) [cpu=2.8915209770202637, gpu=0.18265891075134277, speedup=15.830166538968083]\n",
      "NearestNeighbors (n_samples=65536, n_features=256) [cpu=16.07307767868042, gpu=0.7307829856872559, speedup=21.994323887500872]\n"
     ]
    }
   ],
   "source": [
    "runner = cuml.benchmark.runners.SpeedupComparisonRunner(\n",
    "    bench_rows=SMALL_ROW_SIZES, \n",
    "    bench_dims=SKINNY_FEATURES,\n",
    "    dataset_name=DATA_NEIGHBORHOODS,\n",
    "    input_type=INPUT_TYPE,\n",
    "    n_reps=N_REPS,\n",
    ")\n",
    "\n",
    "execute_benchmark(\"NearestNeighbors\", runner)"
   ]
  },
  {
   "cell_type": "markdown",
   "metadata": {},
   "source": [
    "### KNeighborsClassifier<a id=\"kneighborsclassifier\"/>"
   ]
  },
  {
   "cell_type": "code",
   "execution_count": null,
   "metadata": {},
   "outputs": [],
   "source": [
    "runner = cuml.benchmark.runners.SpeedupComparisonRunner(\n",
    "    bench_rows=SMALL_ROW_SIZES, \n",
    "    bench_dims=SKINNY_FEATURES,\n",
    "    dataset_name=DATA_CLASSIFICATION,\n",
    "    input_type=INPUT_TYPE,\n",
    "    n_reps=N_REPS\n",
    ")\n",
    "\n",
    "execute_benchmark(\"KNeighborsClassifier\", runner)"
   ]
  },
  {
   "cell_type": "markdown",
   "metadata": {},
   "source": [
    "### KNeighborsRegressor<a id=\"kneighborsregressor\"/>"
   ]
  },
  {
   "cell_type": "code",
   "execution_count": null,
   "metadata": {},
   "outputs": [],
   "source": [
    "runner = cuml.benchmark.runners.SpeedupComparisonRunner(\n",
    "    bench_rows=SMALL_ROW_SIZES, \n",
    "    bench_dims=SKINNY_FEATURES,\n",
    "    dataset_name=DATA_REGRESSION,\n",
    "    input_type=INPUT_TYPE,\n",
    "    n_reps=N_REPS\n",
    ")\n",
    "\n",
    "execute_benchmark(\"KNeighborsRegressor\", runner)"
   ]
  },
  {
   "cell_type": "markdown",
   "metadata": {},
   "source": [
    "## Clustering<a id=\"clustering\"/>"
   ]
  },
  {
   "cell_type": "markdown",
   "metadata": {},
   "source": [
    "### DBSCAN - Brute Force<a id=\"dbscan_bruteforce\"/>"
   ]
  },
  {
   "cell_type": "code",
   "execution_count": null,
   "metadata": {},
   "outputs": [],
   "source": [
    "runner = cuml.benchmark.runners.SpeedupComparisonRunner(\n",
    "    bench_rows=SMALL_ROW_SIZES, \n",
    "    bench_dims=SKINNY_FEATURES,\n",
    "    dataset_name=DATA_NEIGHBORHOODS,\n",
    "    input_type=INPUT_TYPE,\n",
    "    n_reps=N_REPS\n",
    ")\n",
    "\n",
    "execute_benchmark(\"DBSCAN\", runner)"
   ]
  },
  {
   "cell_type": "markdown",
   "metadata": {},
   "source": [
    "### K-means Clustering<a id=\"kmeans\"/>"
   ]
  },
  {
   "cell_type": "code",
   "execution_count": null,
   "metadata": {},
   "outputs": [],
   "source": [
    "runner = cuml.benchmark.runners.SpeedupComparisonRunner(\n",
    "    bench_rows=SMALL_ROW_SIZES, \n",
    "    bench_dims=SKINNY_FEATURES,\n",
    "    dataset_name=DATA_NEIGHBORHOODS,\n",
    "    input_type=\"numpy\",\n",
    "    n_reps=N_REPS\n",
    ")\n",
    "\n",
    "execute_benchmark(\"KMeans\", runner)"
   ]
  },
  {
   "cell_type": "markdown",
   "metadata": {},
   "source": [
    "## Manifold Learning<a id=\"manifold_learning\"/>"
   ]
  },
  {
   "cell_type": "markdown",
   "metadata": {},
   "source": [
    "### UMAP - Unsupervised<a id=\"umap_unsupervised\"/>\n",
    "CPU benchmark requires UMAP-learn"
   ]
  },
  {
   "cell_type": "code",
   "execution_count": null,
   "metadata": {},
   "outputs": [],
   "source": [
    "runner = cuml.benchmark.runners.SpeedupComparisonRunner(\n",
    "    bench_rows=SMALL_ROW_SIZES, \n",
    "    bench_dims=WIDE_FEATURES,\n",
    "    dataset_name=DATA_NEIGHBORHOODS,\n",
    "    input_type=INPUT_TYPE,\n",
    "    n_reps=N_REPS\n",
    ")\n",
    "\n",
    "execute_benchmark(\"UMAP-Unsupervised\", runner)"
   ]
  },
  {
   "cell_type": "markdown",
   "metadata": {},
   "source": [
    "### UMAP - Supervised<a id=\"umap_supervised\"/>\n",
    "CPU benchmark requires UMAP-learn"
   ]
  },
  {
   "cell_type": "code",
   "execution_count": null,
   "metadata": {},
   "outputs": [],
   "source": [
    "runner = cuml.benchmark.runners.SpeedupComparisonRunner(\n",
    "    bench_rows=SMALL_ROW_SIZES, \n",
    "    bench_dims=WIDE_FEATURES,\n",
    "    dataset_name=DATA_NEIGHBORHOODS,\n",
    "    input_type=INPUT_TYPE,\n",
    "    n_reps=N_REPS\n",
    ")\n",
    "\n",
    "execute_benchmark(\"UMAP-Supervised\", runner)"
   ]
  },
  {
   "cell_type": "markdown",
   "metadata": {},
   "source": [
    "### T-SNE<a id=\"tsne\"/>"
   ]
  },
  {
   "cell_type": "code",
   "execution_count": null,
   "metadata": {},
   "outputs": [],
   "source": [
    "runner = cuml.benchmark.runners.SpeedupComparisonRunner(\n",
    "    bench_rows=SMALL_ROW_SIZES, \n",
    "    bench_dims=SKINNY_FEATURES, \n",
    "    dataset_name=DATA_NEIGHBORHOODS,\n",
    "    input_type=INPUT_TYPE,\n",
    "    n_reps=N_REPS\n",
    ")\n",
    "\n",
    "# Due to extreme high runtime, the CPU benchmark \n",
    "# is disabled. Use run_cpu=True to re-enable. \n",
    "\n",
    "execute_benchmark(\"TSNE\", runner, run_cpu=True)"
   ]
  },
  {
   "cell_type": "markdown",
   "metadata": {},
   "source": [
    "## Linear Models<a id=\"linear_models\"/>"
   ]
  },
  {
   "cell_type": "markdown",
   "metadata": {},
   "source": [
    "### Linear Regression<a id=\"linear_regression\"/>"
   ]
  },
  {
   "cell_type": "code",
   "execution_count": 6,
   "metadata": {},
   "outputs": [
    {
     "name": "stdout",
     "output_type": "stream",
     "text": [
      "Failed to run with 16384 samples, 32 features: Data must be 1-dimensional\n",
      "Failed to run with 16384 samples, 256 features: Data must be 1-dimensional\n",
      "Failed to run with 32768 samples, 32 features: Data must be 1-dimensional\n",
      "Failed to run with 32768 samples, 256 features: Data must be 1-dimensional\n",
      "Failed to run with 65536 samples, 32 features: Data must be 1-dimensional\n",
      "Failed to run with 65536 samples, 256 features: Data must be 1-dimensional\n"
     ]
    }
   ],
   "source": [
    "runner = cuml.benchmark.runners.SpeedupComparisonRunner(\n",
    "    bench_rows=SMALL_ROW_SIZES, \n",
    "    bench_dims=SKINNY_FEATURES,\n",
    "    dataset_name=DATA_REGRESSION,\n",
    "    input_type=INPUT_TYPE,\n",
    "    n_reps=N_REPS\n",
    ")\n",
    "\n",
    "execute_benchmark(\"LinearRegression\", runner)"
   ]
  },
  {
   "cell_type": "markdown",
   "metadata": {},
   "source": [
    "### Logistic Regression<a id=\"logistic_regression\"/>"
   ]
  },
  {
   "cell_type": "code",
   "execution_count": 7,
   "metadata": {},
   "outputs": [
    {
     "name": "stdout",
     "output_type": "stream",
     "text": [
      "LogisticRegression (n_samples=16384, n_features=32) [cpu=0.02394556999206543, gpu=0.025500774383544922, speedup=0.9390134445296284]\n",
      "LogisticRegression (n_samples=16384, n_features=256) [cpu=0.08084535598754883, gpu=0.02698802947998047, speedup=2.9956005512562283]\n",
      "LogisticRegression (n_samples=32768, n_features=32) [cpu=0.036760568618774414, gpu=0.027305126190185547, speedup=1.3462881791034351]\n",
      "LogisticRegression (n_samples=32768, n_features=256) [cpu=0.1889491081237793, gpu=0.040017127990722656, speedup=4.721705869736184]\n",
      "LogisticRegression (n_samples=65536, n_features=32) [cpu=0.14465785026550293, gpu=0.04127621650695801, speedup=3.5046296028880866]\n",
      "LogisticRegression (n_samples=65536, n_features=256) [cpu=0.32404398918151855, gpu=0.029479026794433594, speedup=10.992357089709165]\n"
     ]
    }
   ],
   "source": [
    "runner = cuml.benchmark.runners.SpeedupComparisonRunner(\n",
    "    bench_rows=SMALL_ROW_SIZES, \n",
    "    bench_dims=SKINNY_FEATURES,\n",
    "    dataset_name=DATA_CLASSIFICATION,\n",
    "    input_type=INPUT_TYPE,\n",
    "    n_reps=N_REPS\n",
    ")\n",
    "\n",
    "execute_benchmark(\"LogisticRegression\", runner)"
   ]
  },
  {
   "cell_type": "markdown",
   "metadata": {},
   "source": [
    "### Ridge Regression<a id=\"ridge_regression\"/>"
   ]
  },
  {
   "cell_type": "code",
   "execution_count": 8,
   "metadata": {},
   "outputs": [
    {
     "name": "stdout",
     "output_type": "stream",
     "text": [
      "Failed to run with 16384 samples, 32 features: Data must be 1-dimensional\n",
      "Failed to run with 16384 samples, 256 features: Data must be 1-dimensional\n",
      "Failed to run with 32768 samples, 32 features: Data must be 1-dimensional\n",
      "Failed to run with 32768 samples, 256 features: Data must be 1-dimensional\n",
      "Failed to run with 65536 samples, 32 features: Data must be 1-dimensional\n",
      "Failed to run with 65536 samples, 256 features: Data must be 1-dimensional\n"
     ]
    }
   ],
   "source": [
    "runner = cuml.benchmark.runners.SpeedupComparisonRunner(\n",
    "    bench_rows=SMALL_ROW_SIZES, \n",
    "    bench_dims=SKINNY_FEATURES,\n",
    "    dataset_name=DATA_REGRESSION,\n",
    "    input_type=INPUT_TYPE,\n",
    "    n_reps=N_REPS\n",
    ")\n",
    "\n",
    "execute_benchmark(\"Ridge\", runner)"
   ]
  },
  {
   "cell_type": "markdown",
   "metadata": {},
   "source": [
    "### Lasso Regression<a id=\"lasso_regression\"/>"
   ]
  },
  {
   "cell_type": "code",
   "execution_count": 9,
   "metadata": {},
   "outputs": [
    {
     "name": "stdout",
     "output_type": "stream",
     "text": [
      "Failed to run with 16384 samples, 32 features: Data must be 1-dimensional\n",
      "Failed to run with 16384 samples, 256 features: Data must be 1-dimensional\n",
      "Failed to run with 32768 samples, 32 features: Data must be 1-dimensional\n",
      "Failed to run with 32768 samples, 256 features: Data must be 1-dimensional\n",
      "Failed to run with 65536 samples, 32 features: Data must be 1-dimensional\n",
      "Failed to run with 65536 samples, 256 features: Data must be 1-dimensional\n"
     ]
    }
   ],
   "source": [
    "runner = cuml.benchmark.runners.SpeedupComparisonRunner(\n",
    "    bench_rows=SMALL_ROW_SIZES, \n",
    "    bench_dims=SKINNY_FEATURES,\n",
    "    dataset_name=DATA_REGRESSION,\n",
    "    input_type=INPUT_TYPE,\n",
    "    n_reps=N_REPS\n",
    ")\n",
    "\n",
    "execute_benchmark(\"Lasso\", runner)"
   ]
  },
  {
   "cell_type": "markdown",
   "metadata": {},
   "source": [
    "### ElasticNet Regression<a id=\"elasticnet_regression\"/>"
   ]
  },
  {
   "cell_type": "code",
   "execution_count": 10,
   "metadata": {},
   "outputs": [
    {
     "name": "stdout",
     "output_type": "stream",
     "text": [
      "Failed to run with 16384 samples, 32 features: Data must be 1-dimensional\n",
      "Failed to run with 16384 samples, 256 features: Data must be 1-dimensional\n",
      "Failed to run with 32768 samples, 32 features: Data must be 1-dimensional\n",
      "Failed to run with 32768 samples, 256 features: Data must be 1-dimensional\n",
      "Failed to run with 65536 samples, 32 features: Data must be 1-dimensional\n",
      "Failed to run with 65536 samples, 256 features: Data must be 1-dimensional\n"
     ]
    }
   ],
   "source": [
    "runner = cuml.benchmark.runners.SpeedupComparisonRunner(\n",
    "    bench_rows=SMALL_ROW_SIZES, \n",
    "    bench_dims=SKINNY_FEATURES,\n",
    "    dataset_name=DATA_REGRESSION,\n",
    "    input_type=INPUT_TYPE,\n",
    "    n_reps=N_REPS\n",
    ")\n",
    "\n",
    "execute_benchmark(\"ElasticNet\", runner)"
   ]
  },
  {
   "cell_type": "markdown",
   "metadata": {},
   "source": [
    "### Mini-batch SGD Classifier<a id=\"minibatch_sgd_classifier\"/>"
   ]
  },
  {
   "cell_type": "code",
   "execution_count": null,
   "metadata": {},
   "outputs": [],
   "source": [
    "runner = cuml.benchmark.runners.SpeedupComparisonRunner(\n",
    "    bench_rows=SMALL_ROW_SIZES, \n",
    "    bench_dims=SKINNY_FEATURES,\n",
    "    dataset_name=DATA_CLASSIFICATION,\n",
    "    input_type=INPUT_TYPE,\n",
    "    n_reps=N_REPS\n",
    ")\n",
    "\n",
    "execute_benchmark(\"MBSGDClassifier\", runner)"
   ]
  },
  {
   "cell_type": "markdown",
   "metadata": {},
   "source": [
    "## Decomposition<a id=\"decomposition\"/>"
   ]
  },
  {
   "cell_type": "markdown",
   "metadata": {},
   "source": [
    "### PCA<a id=\"pca\"/>"
   ]
  },
  {
   "cell_type": "code",
   "execution_count": null,
   "metadata": {},
   "outputs": [],
   "source": [
    "runner = cuml.benchmark.runners.SpeedupComparisonRunner(\n",
    "    bench_rows=SMALL_ROW_SIZES, \n",
    "    bench_dims=WIDE_FEATURES,\n",
    "    dataset_name=DATA_NEIGHBORHOODS,\n",
    "    input_type=INPUT_TYPE,\n",
    "    n_reps=N_REPS\n",
    ")\n",
    "\n",
    "execute_benchmark(\"PCA\", runner)"
   ]
  },
  {
   "cell_type": "markdown",
   "metadata": {},
   "source": [
    "### Truncated SVD<a id=\"truncated_svd\"/>"
   ]
  },
  {
   "cell_type": "code",
   "execution_count": null,
   "metadata": {},
   "outputs": [],
   "source": [
    "runner = cuml.benchmark.runners.SpeedupComparisonRunner(\n",
    "    bench_rows=SMALL_ROW_SIZES, \n",
    "    bench_dims=WIDE_FEATURES,\n",
    "    dataset_name=DATA_NEIGHBORHOODS,\n",
    "    input_type=INPUT_TYPE,\n",
    "    n_reps=N_REPS\n",
    ")\n",
    "\n",
    "execute_benchmark(\"TSVD\", runner)"
   ]
  },
  {
   "cell_type": "markdown",
   "metadata": {},
   "source": [
    "## Ensemble<a id=\"ensemble\"/>"
   ]
  },
  {
   "cell_type": "markdown",
   "metadata": {},
   "source": [
    "### Random Forest Classifier<a id=\"random_forest_classifier\"/>"
   ]
  },
  {
   "cell_type": "code",
   "execution_count": 11,
   "metadata": {},
   "outputs": [
    {
     "name": "stdout",
     "output_type": "stream",
     "text": [
      "RandomForestClassifier (n_samples=16384, n_features=32) [cpu=0.7865993976593018, gpu=0.39292001724243164, speedup=2.0019326151407806]\n",
      "RandomForestClassifier (n_samples=16384, n_features=256) [cpu=3.0330774784088135, gpu=0.4282975196838379, speedup=7.0817068486592705]\n",
      "RandomForestClassifier (n_samples=32768, n_features=32) [cpu=1.5647621154785156, gpu=0.41583824157714844, speedup=3.762910572014366]\n",
      "RandomForestClassifier (n_samples=32768, n_features=256) [cpu=7.004270315170288, gpu=0.5207679271697998, speedup=13.449888039834104]\n",
      "RandomForestClassifier (n_samples=65536, n_features=32) [cpu=4.055113077163696, gpu=0.5220019817352295, speedup=7.7683863645187]\n",
      "RandomForestClassifier (n_samples=65536, n_features=256) [cpu=18.392724752426147, gpu=0.676708459854126, speedup=27.179687921133656]\n"
     ]
    }
   ],
   "source": [
    "runner = cuml.benchmark.runners.SpeedupComparisonRunner(\n",
    "    bench_rows=SMALL_ROW_SIZES, \n",
    "    bench_dims=SKINNY_FEATURES,\n",
    "    dataset_name=DATA_CLASSIFICATION,\n",
    "    input_type=INPUT_TYPE,\n",
    "    n_reps=N_REPS\n",
    ")\n",
    "\n",
    "execute_benchmark(\"RandomForestClassifier\", runner)"
   ]
  },
  {
   "cell_type": "markdown",
   "metadata": {},
   "source": [
    "### Random Forest Regressor<a id=\"random_forest_regressor\"/>"
   ]
  },
  {
   "cell_type": "code",
   "execution_count": 12,
   "metadata": {},
   "outputs": [
    {
     "name": "stdout",
     "output_type": "stream",
     "text": [
      "Failed to run with 16384 samples, 32 features: Data must be 1-dimensional\n",
      "Failed to run with 16384 samples, 256 features: Data must be 1-dimensional\n",
      "Failed to run with 32768 samples, 32 features: Data must be 1-dimensional\n",
      "Failed to run with 32768 samples, 256 features: Data must be 1-dimensional\n",
      "Failed to run with 65536 samples, 32 features: Data must be 1-dimensional\n",
      "Failed to run with 65536 samples, 256 features: Data must be 1-dimensional\n"
     ]
    }
   ],
   "source": [
    "runner = cuml.benchmark.runners.SpeedupComparisonRunner(\n",
    "    bench_rows=SMALL_ROW_SIZES, \n",
    "    bench_dims=SKINNY_FEATURES,\n",
    "    dataset_name=DATA_REGRESSION,\n",
    "    input_type=INPUT_TYPE,\n",
    "    n_reps=N_REPS\n",
    ")\n",
    "\n",
    "execute_benchmark(\"RandomForestRegressor\", runner)"
   ]
  },
  {
   "cell_type": "markdown",
   "metadata": {},
   "source": [
    "### FIL<a id=\"fil\"/>\n",
    "CPU benchmark requires XGBoost Library"
   ]
  },
  {
   "cell_type": "code",
   "execution_count": 13,
   "metadata": {},
   "outputs": [
    {
     "name": "stderr",
     "output_type": "stream",
     "text": [
      "/home/andre/arbeit/sentiment-in-marketing/.venv/lib/python3.10/site-packages/xgboost/core.py:160: UserWarning: [15:17:08] WARNING: /workspace/src/common/error_msg.cc:27: The tree method `gpu_hist` is deprecated since 2.0.0. To use GPU training, set the `device` parameter to CUDA instead.\n",
      "\n",
      "    E.g. tree_method = \"hist\", device = \"cuda\"\n",
      "\n",
      "  warnings.warn(smsg, UserWarning)\n",
      "/home/andre/arbeit/sentiment-in-marketing/.venv/lib/python3.10/site-packages/xgboost/core.py:160: UserWarning: [15:17:08] WARNING: /workspace/src/learner.cc:742: \n",
      "Parameters: { \"fil_algo\", \"num_rounds\", \"output_class\", \"precision\", \"silent\", \"storage_type\", \"threshold\" } are not used.\n",
      "\n",
      "  warnings.warn(smsg, UserWarning)\n",
      "/home/andre/arbeit/sentiment-in-marketing/.venv/lib/python3.10/site-packages/xgboost/core.py:160: UserWarning: [15:17:09] WARNING: /workspace/src/common/error_msg.cc:27: The tree method `gpu_hist` is deprecated since 2.0.0. To use GPU training, set the `device` parameter to CUDA instead.\n",
      "\n",
      "    E.g. tree_method = \"hist\", device = \"cuda\"\n",
      "\n",
      "  warnings.warn(smsg, UserWarning)\n",
      "/home/andre/arbeit/sentiment-in-marketing/.venv/lib/python3.10/site-packages/xgboost/core.py:160: UserWarning: [15:17:09] WARNING: /workspace/src/c_api/c_api.cc:1240: Saving into deprecated binary model format, please consider using `json` or `ubj`. Model format will default to JSON in XGBoost 2.2 if not specified.\n",
      "  warnings.warn(smsg, UserWarning)\n",
      "/home/andre/arbeit/sentiment-in-marketing/.venv/lib/python3.10/site-packages/treelite/model.py:179: FutureWarning: treelite.Model.from_xgboost() is deprecated. Use treelite.frontend.from_xgboost() instead.\n",
      "  warnings.warn(\n",
      "/home/andre/arbeit/sentiment-in-marketing/.venv/lib/python3.10/site-packages/xgboost/core.py:160: UserWarning: [15:17:09] WARNING: /workspace/src/learner.cc:742: \n",
      "Parameters: { \"fil_algo\", \"num_rounds\", \"output_class\", \"precision\", \"silent\", \"storage_type\", \"threshold\" } are not used.\n",
      "\n",
      "  warnings.warn(smsg, UserWarning)\n"
     ]
    },
    {
     "name": "stdout",
     "output_type": "stream",
     "text": [
      "FIL (n_samples=16384, n_features=32) [cpu=0.022415876388549805, gpu=0.0022711753845214844, speedup=9.86972496325845]\n"
     ]
    },
    {
     "name": "stderr",
     "output_type": "stream",
     "text": [
      "/home/andre/arbeit/sentiment-in-marketing/.venv/lib/python3.10/site-packages/xgboost/core.py:160: UserWarning: [15:17:10] WARNING: /workspace/src/common/error_msg.cc:27: The tree method `gpu_hist` is deprecated since 2.0.0. To use GPU training, set the `device` parameter to CUDA instead.\n",
      "\n",
      "    E.g. tree_method = \"hist\", device = \"cuda\"\n",
      "\n",
      "  warnings.warn(smsg, UserWarning)\n",
      "/home/andre/arbeit/sentiment-in-marketing/.venv/lib/python3.10/site-packages/xgboost/core.py:160: UserWarning: [15:17:10] WARNING: /workspace/src/c_api/c_api.cc:1240: Saving into deprecated binary model format, please consider using `json` or `ubj`. Model format will default to JSON in XGBoost 2.2 if not specified.\n",
      "  warnings.warn(smsg, UserWarning)\n",
      "/home/andre/arbeit/sentiment-in-marketing/.venv/lib/python3.10/site-packages/xgboost/core.py:160: UserWarning: [15:17:10] WARNING: /workspace/src/learner.cc:742: \n",
      "Parameters: { \"fil_algo\", \"num_rounds\", \"output_class\", \"precision\", \"silent\", \"storage_type\", \"threshold\" } are not used.\n",
      "\n",
      "  warnings.warn(smsg, UserWarning)\n"
     ]
    },
    {
     "name": "stdout",
     "output_type": "stream",
     "text": [
      "FIL (n_samples=16384, n_features=256) [cpu=0.03056812286376953, gpu=0.004277706146240234, speedup=7.145914613755434]\n",
      "FIL (n_samples=32768, n_features=32) [cpu=0.03991198539733887, gpu=0.003232240676879883, speedup=12.348085859703474]\n"
     ]
    },
    {
     "name": "stderr",
     "output_type": "stream",
     "text": [
      "/home/andre/arbeit/sentiment-in-marketing/.venv/lib/python3.10/site-packages/xgboost/core.py:160: UserWarning: [15:17:11] WARNING: /workspace/src/common/error_msg.cc:27: The tree method `gpu_hist` is deprecated since 2.0.0. To use GPU training, set the `device` parameter to CUDA instead.\n",
      "\n",
      "    E.g. tree_method = \"hist\", device = \"cuda\"\n",
      "\n",
      "  warnings.warn(smsg, UserWarning)\n",
      "/home/andre/arbeit/sentiment-in-marketing/.venv/lib/python3.10/site-packages/xgboost/core.py:160: UserWarning: [15:17:11] WARNING: /workspace/src/c_api/c_api.cc:1240: Saving into deprecated binary model format, please consider using `json` or `ubj`. Model format will default to JSON in XGBoost 2.2 if not specified.\n",
      "  warnings.warn(smsg, UserWarning)\n"
     ]
    },
    {
     "name": "stdout",
     "output_type": "stream",
     "text": [
      "FIL (n_samples=32768, n_features=256) [cpu=0.08741116523742676, gpu=0.006888866424560547, speedup=12.68875891188482]\n"
     ]
    },
    {
     "name": "stderr",
     "output_type": "stream",
     "text": [
      "/home/andre/arbeit/sentiment-in-marketing/.venv/lib/python3.10/site-packages/xgboost/core.py:160: UserWarning: [15:17:12] WARNING: /workspace/src/common/error_msg.cc:27: The tree method `gpu_hist` is deprecated since 2.0.0. To use GPU training, set the `device` parameter to CUDA instead.\n",
      "\n",
      "    E.g. tree_method = \"hist\", device = \"cuda\"\n",
      "\n",
      "  warnings.warn(smsg, UserWarning)\n",
      "/home/andre/arbeit/sentiment-in-marketing/.venv/lib/python3.10/site-packages/xgboost/core.py:160: UserWarning: [15:17:12] WARNING: /workspace/src/learner.cc:742: \n",
      "Parameters: { \"fil_algo\", \"num_rounds\", \"output_class\", \"precision\", \"silent\", \"storage_type\", \"threshold\" } are not used.\n",
      "\n",
      "  warnings.warn(smsg, UserWarning)\n",
      "/home/andre/arbeit/sentiment-in-marketing/.venv/lib/python3.10/site-packages/xgboost/core.py:160: UserWarning: [15:17:12] WARNING: /workspace/src/c_api/c_api.cc:1240: Saving into deprecated binary model format, please consider using `json` or `ubj`. Model format will default to JSON in XGBoost 2.2 if not specified.\n",
      "  warnings.warn(smsg, UserWarning)\n"
     ]
    },
    {
     "name": "stdout",
     "output_type": "stream",
     "text": [
      "FIL (n_samples=65536, n_features=32) [cpu=0.07652521133422852, gpu=0.004161834716796875, speedup=18.38737396883593]\n"
     ]
    },
    {
     "name": "stderr",
     "output_type": "stream",
     "text": [
      "/home/andre/arbeit/sentiment-in-marketing/.venv/lib/python3.10/site-packages/xgboost/core.py:160: UserWarning: [15:17:13] WARNING: /workspace/src/common/error_msg.cc:27: The tree method `gpu_hist` is deprecated since 2.0.0. To use GPU training, set the `device` parameter to CUDA instead.\n",
      "\n",
      "    E.g. tree_method = \"hist\", device = \"cuda\"\n",
      "\n",
      "  warnings.warn(smsg, UserWarning)\n",
      "/home/andre/arbeit/sentiment-in-marketing/.venv/lib/python3.10/site-packages/xgboost/core.py:160: UserWarning: [15:17:13] WARNING: /workspace/src/learner.cc:742: \n",
      "Parameters: { \"fil_algo\", \"num_rounds\", \"output_class\", \"precision\", \"silent\", \"storage_type\", \"threshold\" } are not used.\n",
      "\n",
      "  warnings.warn(smsg, UserWarning)\n",
      "/home/andre/arbeit/sentiment-in-marketing/.venv/lib/python3.10/site-packages/xgboost/core.py:160: UserWarning: [15:17:14] WARNING: /workspace/src/common/error_msg.cc:27: The tree method `gpu_hist` is deprecated since 2.0.0. To use GPU training, set the `device` parameter to CUDA instead.\n",
      "\n",
      "    E.g. tree_method = \"hist\", device = \"cuda\"\n",
      "\n",
      "  warnings.warn(smsg, UserWarning)\n",
      "/home/andre/arbeit/sentiment-in-marketing/.venv/lib/python3.10/site-packages/xgboost/core.py:160: UserWarning: [15:17:14] WARNING: /workspace/src/c_api/c_api.cc:1240: Saving into deprecated binary model format, please consider using `json` or `ubj`. Model format will default to JSON in XGBoost 2.2 if not specified.\n",
      "  warnings.warn(smsg, UserWarning)\n"
     ]
    },
    {
     "name": "stdout",
     "output_type": "stream",
     "text": [
      "FIL (n_samples=65536, n_features=256) [cpu=0.17517995834350586, gpu=0.013036012649536133, speedup=13.438154982899574]\n"
     ]
    }
   ],
   "source": [
    "runner = cuml.benchmark.runners.SpeedupComparisonRunner(\n",
    "    bench_rows=SMALL_ROW_SIZES, \n",
    "    bench_dims=SKINNY_FEATURES,\n",
    "    dataset_name=DATA_CLASSIFICATION,\n",
    "    input_type=INPUT_TYPE,\n",
    "    n_reps=N_REPS\n",
    ")\n",
    "\n",
    "execute_benchmark(\"FIL\", runner)"
   ]
  },
  {
   "cell_type": "markdown",
   "metadata": {},
   "source": [
    "## Sparse FIL<a id=\"sparse_fil\"/>\n",
    "Requires TreeLite library"
   ]
  },
  {
   "cell_type": "code",
   "execution_count": null,
   "metadata": {},
   "outputs": [],
   "source": [
    "runner = cuml.benchmark.runners.SpeedupComparisonRunner(\n",
    "    bench_rows=SMALL_ROW_SIZES, \n",
    "    bench_dims=SKINNY_FEATURES,\n",
    "    dataset_name=DATA_CLASSIFICATION,\n",
    "    input_type=INPUT_TYPE,\n",
    "    n_reps=N_REPS\n",
    ")\n",
    "\n",
    "execute_benchmark(\"Sparse-FIL-SKL\", runner)"
   ]
  },
  {
   "cell_type": "markdown",
   "metadata": {},
   "source": [
    "## Random Projection<a id=\"random_projection\"/>"
   ]
  },
  {
   "cell_type": "markdown",
   "metadata": {},
   "source": [
    "### Gaussian Random Projection<a id=\"gaussian_random_projection\"/>"
   ]
  },
  {
   "cell_type": "code",
   "execution_count": null,
   "metadata": {},
   "outputs": [],
   "source": [
    "runner = cuml.benchmark.runners.SpeedupComparisonRunner(\n",
    "    bench_rows=SMALL_ROW_SIZES,\n",
    "    bench_dims=WIDE_FEATURES,\n",
    "    dataset_name=DATA_NEIGHBORHOODS,\n",
    "    input_type=INPUT_TYPE,\n",
    "    n_reps=N_REPS\n",
    ")\n",
    "\n",
    "execute_benchmark(\"GaussianRandomProjection\", runner)"
   ]
  },
  {
   "cell_type": "markdown",
   "metadata": {},
   "source": [
    "### Sparse Random Projection<a id=\"sparse_random_projection\"/>"
   ]
  },
  {
   "cell_type": "code",
   "execution_count": null,
   "metadata": {},
   "outputs": [],
   "source": [
    "runner = cuml.benchmark.runners.SpeedupComparisonRunner(\n",
    "    bench_rows=SMALL_ROW_SIZES,\n",
    "    bench_dims=WIDE_FEATURES,\n",
    "    dataset_name=DATA_NEIGHBORHOODS,\n",
    "    input_type=INPUT_TYPE,\n",
    "    n_reps=N_REPS\n",
    ")\n",
    "\n",
    "execute_benchmark(\"SparseRandomProjection\", runner)"
   ]
  },
  {
   "cell_type": "markdown",
   "metadata": {},
   "source": [
    "## SVM<a id=\"svm\"/>"
   ]
  },
  {
   "cell_type": "markdown",
   "metadata": {},
   "source": [
    "### SVC - Linear Kernel<a id=\"svc_linear_kernel\"/>"
   ]
  },
  {
   "cell_type": "code",
   "execution_count": 16,
   "metadata": {},
   "outputs": [
    {
     "name": "stdout",
     "output_type": "stream",
     "text": [
      "[W] [15:01:49.625803] SVC with the linear kernel can be much faster using the specialized solver provided by LinearSVC. Consider switching to LinearSVC if tranining takes too long.\n",
      "SVC-Linear (n_samples=16384, n_features=32) [cpu=0.27545595169067383, gpu=0.15064501762390137, speedup=1.828510202563579]\n",
      "SVC-Linear (n_samples=16384, n_features=256) [cpu=15.33716106414795, gpu=0.18590426445007324, speedup=82.5003186963843]\n",
      "SVC-Linear (n_samples=32768, n_features=32) [cpu=2.412944793701172, gpu=0.08975672721862793, speedup=26.883163730154305]\n",
      "SVC-Linear (n_samples=32768, n_features=256) [cpu=111.44811677932739, gpu=0.30434679985046387, speedup=366.18790417407286]\n",
      "SVC-Linear (n_samples=65536, n_features=32) [cpu=34.696784257888794, gpu=0.269028902053833, speedup=128.97047117616353]\n",
      "Failed to run with 65536 samples, 256 features: The work in this thread was cancelled.\n",
      "Obtained 64 stack frames\n",
      "#0 in /home/andre/arbeit/sentiment-in-marketing/.venv/lib/python3.10/site-packages/pylibraft/common/handle.cpython-310-x86_64-linux-gnu.so(_ZN4raft9exception18collect_call_stackEv+0x81) [0x7f8793a01131]\n",
      "#1 in /home/andre/arbeit/sentiment-in-marketing/.venv/lib/python3.10/site-packages/pylibraft/common/handle.cpython-310-x86_64-linux-gnu.so(_ZN4raft13interruptible16synchronize_implIPF9cudaErrorP11CUstream_stEN3rmm16cuda_stream_viewEEEvT_T0_+0x2d7) [0x7f8793a07507]\n",
      "#2 in /home/andre/arbeit/sentiment-in-marketing/.venv/lib/python3.10/site-packages/pylibraft/common/handle.cpython-310-x86_64-linux-gnu.so(+0x49efc) [0x7f87939faefc]\n",
      "#3 in /home/andre/arbeit/sentiment-in-marketing/.venv/lib/python3.10/site-packages/cuml/svm/svc.cpython-310-x86_64-linux-gnu.so(+0x4cdff) [0x7f8790adcdff]\n",
      "#4 in /home/andre/arbeit/sentiment-in-marketing/.venv/bin/python(PyObject_Call+0x122) [0x5598074bd492]\n",
      "#5 in /home/andre/arbeit/sentiment-in-marketing/.venv/bin/python(_PyEval_EvalFrameDefault+0x2a27) [0x5598074995d7]\n",
      "#6 in /home/andre/arbeit/sentiment-in-marketing/.venv/bin/python(+0x1687f1) [0x5598074bc7f1]\n",
      "#7 in /home/andre/arbeit/sentiment-in-marketing/.venv/bin/python(_PyEval_EvalFrameDefault+0x198c) [0x55980749853c]\n",
      "#8 in /home/andre/arbeit/sentiment-in-marketing/.venv/bin/python(_PyFunction_Vectorcall+0x7c) [0x5598074ae9fc]\n",
      "#9 in /home/andre/arbeit/sentiment-in-marketing/.venv/bin/python(_PyEval_EvalFrameDefault+0x6bd) [0x55980749726d]\n",
      "#10 in /home/andre/arbeit/sentiment-in-marketing/.venv/bin/python(_PyFunction_Vectorcall+0x7c) [0x5598074ae9fc]\n",
      "#11 in /home/andre/arbeit/sentiment-in-marketing/.venv/bin/python(_PyEval_EvalFrameDefault+0x2a27) [0x5598074995d7]\n",
      "#12 in /home/andre/arbeit/sentiment-in-marketing/.venv/bin/python(+0x1687f1) [0x5598074bc7f1]\n",
      "#13 in /home/andre/arbeit/sentiment-in-marketing/.venv/bin/python(PyObject_Call+0x122) [0x5598074bd492]\n",
      "#14 in /home/andre/arbeit/sentiment-in-marketing/.venv/bin/python(_PyEval_EvalFrameDefault+0x2a27) [0x5598074995d7]\n",
      "#15 in /home/andre/arbeit/sentiment-in-marketing/.venv/bin/python(+0x1687f1) [0x5598074bc7f1]\n",
      "#16 in /home/andre/arbeit/sentiment-in-marketing/.venv/bin/python(_PyEval_EvalFrameDefault+0x198c) [0x55980749853c]\n",
      "#17 in /home/andre/arbeit/sentiment-in-marketing/.venv/bin/python(+0x1687f1) [0x5598074bc7f1]\n",
      "#18 in /home/andre/arbeit/sentiment-in-marketing/.venv/bin/python(PyObject_Call+0x122) [0x5598074bd492]\n",
      "#19 in /home/andre/arbeit/sentiment-in-marketing/.venv/bin/python(_PyEval_EvalFrameDefault+0x2a27) [0x5598074995d7]\n",
      "#20 in /home/andre/arbeit/sentiment-in-marketing/.venv/bin/python(_PyFunction_Vectorcall+0x7c) [0x5598074ae9fc]\n",
      "#21 in /home/andre/arbeit/sentiment-in-marketing/.venv/bin/python(_PyEval_EvalFrameDefault+0x198c) [0x55980749853c]\n",
      "#22 in /home/andre/arbeit/sentiment-in-marketing/.venv/bin/python(+0x13f9c6) [0x5598074939c6]\n",
      "#23 in /home/andre/arbeit/sentiment-in-marketing/.venv/bin/python(PyEval_EvalCode+0x86) [0x559807589256]\n",
      "#24 in /home/andre/arbeit/sentiment-in-marketing/.venv/bin/python(+0x23ae2d) [0x55980758ee2d]\n",
      "#25 in /home/andre/arbeit/sentiment-in-marketing/.venv/bin/python(+0x15ac59) [0x5598074aec59]\n",
      "#26 in /home/andre/arbeit/sentiment-in-marketing/.venv/bin/python(_PyEval_EvalFrameDefault+0x6bd) [0x55980749726d]\n",
      "#27 in /home/andre/arbeit/sentiment-in-marketing/.venv/bin/python(+0x177ff0) [0x5598074cbff0]\n",
      "#28 in /home/andre/arbeit/sentiment-in-marketing/.venv/bin/python(_PyEval_EvalFrameDefault+0x2568) [0x559807499118]\n",
      "#29 in /home/andre/arbeit/sentiment-in-marketing/.venv/bin/python(+0x177ff0) [0x5598074cbff0]\n",
      "#30 in /home/andre/arbeit/sentiment-in-marketing/.venv/bin/python(_PyEval_EvalFrameDefault+0x2568) [0x559807499118]\n",
      "#31 in /home/andre/arbeit/sentiment-in-marketing/.venv/bin/python(+0x177ff0) [0x5598074cbff0]\n",
      "#32 in /home/andre/arbeit/sentiment-in-marketing/.venv/bin/python(+0x2557af) [0x5598075a97af]\n",
      "#33 in /home/andre/arbeit/sentiment-in-marketing/.venv/bin/python(+0x1662ca) [0x5598074ba2ca]\n",
      "#34 in /home/andre/arbeit/sentiment-in-marketing/.venv/bin/python(_PyEval_EvalFrameDefault+0x8ac) [0x55980749745c]\n",
      "#35 in /home/andre/arbeit/sentiment-in-marketing/.venv/bin/python(_PyFunction_Vectorcall+0x7c) [0x5598074ae9fc]\n",
      "#36 in /home/andre/arbeit/sentiment-in-marketing/.venv/bin/python(_PyEval_EvalFrameDefault+0x6bd) [0x55980749726d]\n",
      "#37 in /home/andre/arbeit/sentiment-in-marketing/.venv/bin/python(_PyFunction_Vectorcall+0x7c) [0x5598074ae9fc]\n",
      "#38 in /home/andre/arbeit/sentiment-in-marketing/.venv/bin/python(_PyEval_EvalFrameDefault+0x8ac) [0x55980749745c]\n",
      "#39 in /home/andre/arbeit/sentiment-in-marketing/.venv/bin/python(+0x1687f1) [0x5598074bc7f1]\n",
      "#40 in /home/andre/arbeit/sentiment-in-marketing/.venv/bin/python(PyObject_Call+0x122) [0x5598074bd492]\n",
      "#41 in /home/andre/arbeit/sentiment-in-marketing/.venv/bin/python(_PyEval_EvalFrameDefault+0x2a27) [0x5598074995d7]\n",
      "#42 in /home/andre/arbeit/sentiment-in-marketing/.venv/bin/python(+0x1687f1) [0x5598074bc7f1]\n",
      "#43 in /home/andre/arbeit/sentiment-in-marketing/.venv/bin/python(_PyEval_EvalFrameDefault+0x198c) [0x55980749853c]\n",
      "#44 in /home/andre/arbeit/sentiment-in-marketing/.venv/bin/python(+0x177ff0) [0x5598074cbff0]\n",
      "#45 in /home/andre/arbeit/sentiment-in-marketing/.venv/bin/python(_PyEval_EvalFrameDefault+0x2568) [0x559807499118]\n",
      "#46 in /home/andre/arbeit/sentiment-in-marketing/.venv/bin/python(+0x177ff0) [0x5598074cbff0]\n",
      "#47 in /home/andre/arbeit/sentiment-in-marketing/.venv/bin/python(_PyEval_EvalFrameDefault+0x2568) [0x559807499118]\n",
      "#48 in /home/andre/arbeit/sentiment-in-marketing/.venv/bin/python(+0x177ff0) [0x5598074cbff0]\n",
      "#49 in /home/andre/arbeit/sentiment-in-marketing/.venv/bin/python(_PyEval_EvalFrameDefault+0x2568) [0x559807499118]\n",
      "#50 in /home/andre/arbeit/sentiment-in-marketing/.venv/bin/python(+0x177ff0) [0x5598074cbff0]\n",
      "#51 in /home/andre/arbeit/sentiment-in-marketing/.venv/bin/python(_PyEval_EvalFrameDefault+0x2568) [0x559807499118]\n",
      "#52 in /home/andre/arbeit/sentiment-in-marketing/.venv/bin/python(+0x177ff0) [0x5598074cbff0]\n",
      "#53 in /home/andre/arbeit/sentiment-in-marketing/.venv/bin/python(_PyEval_EvalFrameDefault+0x2568) [0x559807499118]\n",
      "#54 in /home/andre/arbeit/sentiment-in-marketing/.venv/bin/python(+0x177ff0) [0x5598074cbff0]\n",
      "#55 in /usr/lib/python3.10/lib-dynload/_asyncio.cpython-310-x86_64-linux-gnu.so(+0x928e) [0x7f8909ca028e]\n",
      "#56 in /usr/lib/python3.10/lib-dynload/_asyncio.cpython-310-x86_64-linux-gnu.so(+0xa49b) [0x7f8909ca149b]\n",
      "#57 in /home/andre/arbeit/sentiment-in-marketing/.venv/bin/python(+0x159b34) [0x5598074adb34]\n",
      "#58 in /home/andre/arbeit/sentiment-in-marketing/.venv/bin/python(+0x236bc5) [0x55980758abc5]\n",
      "#59 in /home/andre/arbeit/sentiment-in-marketing/.venv/bin/python(+0x2b2572) [0x559807606572]\n",
      "#60 in /home/andre/arbeit/sentiment-in-marketing/.venv/bin/python(+0x14d99b) [0x5598074a199b]\n",
      "#61 in /home/andre/arbeit/sentiment-in-marketing/.venv/bin/python(_PyEval_EvalFrameDefault+0x2a27) [0x5598074995d7]\n",
      "#62 in /home/andre/arbeit/sentiment-in-marketing/.venv/bin/python(_PyFunction_Vectorcall+0x7c) [0x5598074ae9fc]\n",
      "#63 in /home/andre/arbeit/sentiment-in-marketing/.venv/bin/python(_PyEval_EvalFrameDefault+0x8ac) [0x55980749745c]\n",
      "\n"
     ]
    }
   ],
   "source": [
    "runner = cuml.benchmark.runners.SpeedupComparisonRunner(\n",
    "    bench_rows=SMALL_ROW_SIZES, \n",
    "    bench_dims=SKINNY_FEATURES,\n",
    "    dataset_name=DATA_CLASSIFICATION,\n",
    "    input_type=INPUT_TYPE,\n",
    "    n_reps=N_REPS\n",
    ")\n",
    "\n",
    "# Due to extreme high runtime, the CPU benchmark \n",
    "# is disabled. Use run_cpu=True to re-enable. \n",
    "\n",
    "execute_benchmark(\"SVC-Linear\", runner, run_cpu=True)"
   ]
  },
  {
   "cell_type": "markdown",
   "metadata": {},
   "source": [
    "### SVC - RBF Kernel<a id=\"svc_rbf_kernel\"/>"
   ]
  },
  {
   "cell_type": "code",
   "execution_count": null,
   "metadata": {},
   "outputs": [],
   "source": [
    "runner = cuml.benchmark.runners.SpeedupComparisonRunner(\n",
    "    bench_rows=SMALL_ROW_SIZES, \n",
    "    bench_dims=SKINNY_FEATURES,\n",
    "    dataset_name=DATA_CLASSIFICATION,\n",
    "    input_type=INPUT_TYPE,\n",
    "    n_reps=N_REPS\n",
    ")\n",
    "\n",
    "# Due to extreme high runtime, the CPU benchmark \n",
    "# is disabled. Use run_cpu=True to re-enable. \n",
    "\n",
    "execute_benchmark(\"SVC-RBF\", runner, run_cpu=True)"
   ]
  },
  {
   "cell_type": "markdown",
   "metadata": {},
   "source": [
    "### SVR - Linear Kernel<a id=\"svr_linear_kernel\"/>"
   ]
  },
  {
   "cell_type": "code",
   "execution_count": null,
   "metadata": {},
   "outputs": [],
   "source": [
    "runner = cuml.benchmark.runners.SpeedupComparisonRunner(\n",
    "    bench_rows=SMALL_ROW_SIZES, \n",
    "    bench_dims=SKINNY_FEATURES,\n",
    "    dataset_name=DATA_REGRESSION,\n",
    "    input_type=INPUT_TYPE,\n",
    "    n_reps=N_REPS\n",
    ")\n",
    "\n",
    "# Due to extreme high runtime, the CPU benchmark \n",
    "# is disabled. Use run_cpu=True to re-enable. \n",
    "\n",
    "execute_benchmark(\"SVR-Linear\", runner, run_cpu=False)"
   ]
  },
  {
   "cell_type": "markdown",
   "metadata": {},
   "source": [
    "### SVR - RBF Kernel<a id=\"svr_rbf_kernel\"/>"
   ]
  },
  {
   "cell_type": "code",
   "execution_count": null,
   "metadata": {},
   "outputs": [],
   "source": [
    "runner = cuml.benchmark.runners.SpeedupComparisonRunner(\n",
    "    bench_rows=SMALL_ROW_SIZES, \n",
    "    bench_dims=SKINNY_FEATURES,\n",
    "    dataset_name=DATA_REGRESSION,\n",
    "    input_type=INPUT_TYPE,\n",
    "    n_reps=N_REPS\n",
    ")\n",
    "\n",
    "execute_benchmark(\"SVR-RBF\", runner)"
   ]
  },
  {
   "cell_type": "markdown",
   "metadata": {},
   "source": [
    "## Charting & Storing Results<a id=\"charting_and_storing_results\"/>"
   ]
  },
  {
   "cell_type": "markdown",
   "metadata": {},
   "source": [
    "### Convert Results to Pandas DataFrame<a id=\"convert_to_pandas\"/>"
   ]
  },
  {
   "cell_type": "code",
   "execution_count": 14,
   "metadata": {},
   "outputs": [],
   "source": [
    "%matplotlib inline"
   ]
  },
  {
   "cell_type": "code",
   "execution_count": 15,
   "metadata": {},
   "outputs": [],
   "source": [
    "df = pd.DataFrame(benchmark_results)"
   ]
  },
  {
   "cell_type": "markdown",
   "metadata": {},
   "source": [
    "### Chart Results<a id=\"chart_results\"/>"
   ]
  },
  {
   "cell_type": "code",
   "execution_count": 16,
   "metadata": {},
   "outputs": [],
   "source": [
    "def chart_single_algo_speedup(df, algorithm):\n",
    "    df = df.loc[df.algo == algorithm]\n",
    "    df = df.pivot(index=\"n_samples\", columns=\"n_features\", values=\"speedup\")\n",
    "    axes = df.plot.bar(title=\"%s Speedup\" % algorithm)"
   ]
  },
  {
   "cell_type": "code",
   "execution_count": 17,
   "metadata": {},
   "outputs": [],
   "source": [
    "def chart_all_algo_speedup(df):\n",
    "    df = df[[\"algo\", \"n_samples\", \"speedup\"]].groupby([\"algo\", \"n_samples\"]).mean()\n",
    "    df.plot.bar()"
   ]
  },
  {
   "cell_type": "code",
   "execution_count": 18,
   "metadata": {},
   "outputs": [
    {
     "data": {
      "image/png": "[encoded data removed]",
      "text/plain": [
       "<Figure size 640x480 with 1 Axes>"
      ]
     },
     "metadata": {},
     "output_type": "display_data"
    }
   ],
   "source": [
    "chart_single_algo_speedup(df, \"LinearRegression\")"
   ]
  },
  {
   "cell_type": "code",
   "execution_count": 19,
   "metadata": {},
   "outputs": [
    {
     "data": {
      "image/png": "[encoded data removed]",
      "text/plain": [
       "<Figure size 640x480 with 1 Axes>"
      ]
     },
     "metadata": {},
     "output_type": "display_data"
    }
   ],
   "source": [
    "chart_all_algo_speedup(df)"
   ]
  },
  {
   "cell_type": "markdown",
   "metadata": {},
   "source": [
    "### Output Results to CSV<a id=\"output_csv\"/>"
   ]
  },
  {
   "cell_type": "code",
   "execution_count": null,
   "metadata": {},
   "outputs": [],
   "source": [
    "df.to_csv(\"benchmark_results.csv\")"
   ]
  }
 ],
 "metadata": {
  "kernelspec": {
   "display_name": "Python (rapids-env7)",
   "language": "python",
   "name": "python3"
  },
  "language_info": {
   "codemirror_mode": {
    "name": "ipython",
    "version": 3
   },
   "file_extension": ".py",
   "mimetype": "text/x-python",
   "name": "python",
   "nbconvert_exporter": "python",
   "pygments_lexer": "ipython3",
   "version": "3.10.12"
  }
 },
 "nbformat": 4,
 "nbformat_minor": 4
}
